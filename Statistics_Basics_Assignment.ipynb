{
  "nbformat": 4,
  "nbformat_minor": 0,
  "metadata": {
    "colab": {
      "provenance": []
    },
    "kernelspec": {
      "name": "python3",
      "display_name": "Python 3"
    },
    "language_info": {
      "name": "python"
    }
  },
  "cells": [
    {
      "cell_type": "markdown",
      "source": [
        "## **Statistics** Basics Assignment"
      ],
      "metadata": {
        "id": "nMYIuDoB0o5C"
      }
    },
    {
      "cell_type": "markdown",
      "source": [
        "## Name: Arghadeep Misra"
      ],
      "metadata": {
        "id": "jXCACoNq0rdV"
      }
    },
    {
      "cell_type": "markdown",
      "source": [
        "# **Theory Questions**"
      ],
      "metadata": {
        "id": "8WxRDt8F0rzk"
      }
    },
    {
      "cell_type": "markdown",
      "source": [
        "1. What is statistics, and why is it important?"
      ],
      "metadata": {
        "id": "trOl-W6m03ky"
      }
    },
    {
      "cell_type": "markdown",
      "source": [
        "- Statistics is basically about collecting and analyzing data to find patterns and make decisions. Its important because everything around us involves data - from business decisions to medical research to sports analysis. Without statistics we would just be guessing about everything."
      ],
      "metadata": {
        "id": "AsG6ZmZ403iF"
      }
    },
    {
      "cell_type": "markdown",
      "source": [
        "2. What are the two main types of statistics?"
      ],
      "metadata": {
        "id": "GKuCfjGv03fQ"
      }
    },
    {
      "cell_type": "markdown",
      "source": [
        "- There are descriptive statistics which just describe what happened in your data like averages and charts. Then theres inferential statistics where you try to make predictions or conclusions about larger populations based on sample data."
      ],
      "metadata": {
        "id": "9UGbVOEl03cd"
      }
    },
    {
      "cell_type": "markdown",
      "source": [
        "3. What are descriptive statistics?"
      ],
      "metadata": {
        "id": "XgOfyJqF03Zp"
      }
    },
    {
      "cell_type": "markdown",
      "source": [
        "- Descriptive statistics just summarize and describe the main features of your dataset. Things like mean, median, mode, standard deviation etc. They dont try to make predictions, just tell you what your data looks like."
      ],
      "metadata": {
        "id": "8yKnnKwL03Ww"
      }
    },
    {
      "cell_type": "markdown",
      "source": [
        "4. What is inferential statistics?"
      ],
      "metadata": {
        "id": "xodI0nt603UB"
      }
    },
    {
      "cell_type": "markdown",
      "source": [
        "- Inferential statistics is when you use sample data to make conclusions about the whole population. Like if you survey 1000 people about something and use that to predict what all people in the country think."
      ],
      "metadata": {
        "id": "jtk6O4GV03RK"
      }
    },
    {
      "cell_type": "markdown",
      "source": [
        "5. What is sampling in statistics?"
      ],
      "metadata": {
        "id": "FrK_MPNY03Ob"
      }
    },
    {
      "cell_type": "markdown",
      "source": [
        "- Sampling means selecting a subset of data from a larger population to study. You cant always study everyone so you pick a smaller group that hopefully represents the whole population well."
      ],
      "metadata": {
        "id": "io-Zspvq03Lg"
      }
    },
    {
      "cell_type": "markdown",
      "source": [
        "6. What are the different types of sampling methods?"
      ],
      "metadata": {
        "id": "bFo5u0qj03Io"
      }
    },
    {
      "cell_type": "markdown",
      "source": [
        "- Main types are random sampling where everyone has equal chance to be picked, stratified sampling where you divide population into groups first, systematic sampling where you pick every nth person, and convenience sampling where you just pick whoever is easiest to reach."
      ],
      "metadata": {
        "id": "KRYvwplN03Fy"
      }
    },
    {
      "cell_type": "markdown",
      "source": [
        "7. What is the difference between random and non-random sampling?"
      ],
      "metadata": {
        "id": "9ml2a11-03C6"
      }
    },
    {
      "cell_type": "markdown",
      "source": [
        "- Random sampling gives everyone equal chance to be selected which reduces bias. Non-random sampling is when you choose people based on convenience or some criteria which can introduce bias in your results."
      ],
      "metadata": {
        "id": "g2CHkMd_03AH"
      }
    },
    {
      "cell_type": "markdown",
      "source": [
        "8. Define and give examples of qualitative and quantitative data."
      ],
      "metadata": {
        "id": "ecEqs7ow029c"
      }
    },
    {
      "cell_type": "markdown",
      "source": [
        "- Qualitative data is descriptive stuff like colors, names, categories. Like favorite movie genre or hair color. Quantitative data is numerical like height, weight, test scores. Basically words vs numbers."
      ],
      "metadata": {
        "id": "qCqD634N026m"
      }
    },
    {
      "cell_type": "markdown",
      "source": [
        "9. What are the different types of data in statistics?"
      ],
      "metadata": {
        "id": "mCW2EX1b024B"
      }
    },
    {
      "cell_type": "markdown",
      "source": [
        "- You have categorical data which is qualitative stuff like gender or city names. Then numerical data which can be discrete (whole numbers like number of students) or continuous (can have decimals like height or weight)."
      ],
      "metadata": {
        "id": "HujBzQQn021K"
      }
    },
    {
      "cell_type": "markdown",
      "source": [
        "10. Explain nominal, ordinal, interval, and ratio levels of measurement."
      ],
      "metadata": {
        "id": "NnV_Jou302yn"
      }
    },
    {
      "cell_type": "markdown",
      "source": [
        "- Nominal is just categories with no order like color or gender. Ordinal has order but no equal spacing like small/medium/large. Interval has equal spacing but no true zero like temperature in celsius. Ratio has equal spacing and true zero like weight or height."
      ],
      "metadata": {
        "id": "rZyYugXY02vw"
      }
    },
    {
      "cell_type": "markdown",
      "source": [
        "11. What is the measure of central tendency?"
      ],
      "metadata": {
        "id": "CfWMZOH602tD"
      }
    },
    {
      "cell_type": "markdown",
      "source": [
        "- Central tendency tells you where the center of your data is. The three main measures are mean (average), median (middle value), and mode (most frequent value). They help you understand the typical value in your dataset."
      ],
      "metadata": {
        "id": "hnWMTFra02qP"
      }
    },
    {
      "cell_type": "markdown",
      "source": [
        "12. Define mean, median, and mode."
      ],
      "metadata": {
        "id": "bPdSke3H02nu"
      }
    },
    {
      "cell_type": "markdown",
      "source": [
        "- Mean is just the average - add all values and divide by count. Median is the middle value when you arrange data in order. Mode is the value that appears most frequently. Each one is useful in different situations."
      ],
      "metadata": {
        "id": "4pSlSAJg02k8"
      }
    },
    {
      "cell_type": "markdown",
      "source": [
        "13. What is the significance of the measure of central tendency?"
      ],
      "metadata": {
        "id": "IgxYRHXm02iX"
      }
    },
    {
      "cell_type": "markdown",
      "source": [
        "- Central tendency helps you understand where most of your data points are clustered. Its useful for comparing datasets and understanding typical values. Like knowing average salary helps you understand if a particular salary is high or low."
      ],
      "metadata": {
        "id": "0sxPFZqd02fV"
      }
    },
    {
      "cell_type": "markdown",
      "source": [
        "14. What is variance, and how is it calculated?"
      ],
      "metadata": {
        "id": "piG2Rzlq02cm"
      }
    },
    {
      "cell_type": "markdown",
      "source": [
        "- Variance measures how spread out your data is from the mean. You calculate it by finding the squared differences from mean, then taking the average of those squared differences. Higher variance means data is more spread out."
      ],
      "metadata": {
        "id": "s5T-61bc02Z4"
      }
    },
    {
      "cell_type": "markdown",
      "source": [
        "15. What is standard deviation, and why is it important?"
      ],
      "metadata": {
        "id": "26tIwXFA02XC"
      }
    },
    {
      "cell_type": "markdown",
      "source": [
        "- Standard deviation is just the square root of variance. Its important because its in the same units as your original data, making it easier to interpret. It tells you how much your data typically deviates from the mean."
      ],
      "metadata": {
        "id": "2LwbG1GR02Qu"
      }
    },
    {
      "cell_type": "markdown",
      "source": [
        "16. Define and explain the term range in statistics."
      ],
      "metadata": {
        "id": "2YrP0l2_011p"
      }
    },
    {
      "cell_type": "markdown",
      "source": [
        "- Range is simply the difference between the highest and lowest values in your dataset. Its the simplest measure of spread but not very robust because it only considers two extreme values."
      ],
      "metadata": {
        "id": "a2kQvC4WC4rE"
      }
    },
    {
      "cell_type": "markdown",
      "source": [
        "17. What is the difference between variance and standard deviation?"
      ],
      "metadata": {
        "id": "0AmoBhX2C4kF"
      }
    },
    {
      "cell_type": "markdown",
      "source": [
        "- Variance is in squared units which makes it hard to interpret, while standard deviation is in original units. Standard deviation is more commonly used because its easier to understand what it means in real terms."
      ],
      "metadata": {
        "id": "UPNFC2AOC4gA"
      }
    },
    {
      "cell_type": "markdown",
      "source": [
        "18. What is skewness in a dataset?"
      ],
      "metadata": {
        "id": "bPFeTQb_C4b1"
      }
    },
    {
      "cell_type": "markdown",
      "source": [
        "- Skewness tells you if your data is symmetric or leans more to one side. A perfectly symmetric distribution has zero skewness. Most real world data has some skewness."
      ],
      "metadata": {
        "id": "K0ksYGcnC4X9"
      }
    },
    {
      "cell_type": "markdown",
      "source": [
        "19. What does it mean if a dataset is positively or negatively skewed?"
      ],
      "metadata": {
        "id": "tiisM2SuC4UD"
      }
    },
    {
      "cell_type": "markdown",
      "source": [
        "- Positive skew means the tail extends more to the right, so most values are on the lower end with few high values. Negative skew is opposite - tail extends left with most values on higher end."
      ],
      "metadata": {
        "id": "McPgHYgNC4Pu"
      }
    },
    {
      "cell_type": "markdown",
      "source": [
        "## OUT OF SYLLABUS\n",
        "\n",
        "20. Define and explain kurtosis."
      ],
      "metadata": {
        "id": "ZOEj0277C4MJ"
      }
    },
    {
      "cell_type": "markdown",
      "source": [
        "\n",
        "\n",
        "- Kurtosis measures how heavy the tails of your distribution are compared to normal distribution. High kurtosis means more extreme values, low kurtosis means data is more evenly spread out."
      ],
      "metadata": {
        "id": "PC9tjgzeC4IT"
      }
    },
    {
      "cell_type": "markdown",
      "source": [
        "21. What is the purpose of covariance?"
      ],
      "metadata": {
        "id": "Gy9c-UFgC4E7"
      }
    },
    {
      "cell_type": "markdown",
      "source": [
        "- Covariance measures how two variables move together. Positive covariance means when one goes up, the other tends to go up too. Negative means they move in opposite directions."
      ],
      "metadata": {
        "id": "OtFs-UpZC4A7"
      }
    },
    {
      "cell_type": "markdown",
      "source": [
        "22. What does correlation measure in statistics?"
      ],
      "metadata": {
        "id": "06eTpbRkC39K"
      }
    },
    {
      "cell_type": "markdown",
      "source": [
        "- Correlation is like covariance but standardized between -1 and 1. It measures the linear relationship between two variables. 1 means perfect positive relationship, -1 means perfect negative, 0 means no linear relationship."
      ],
      "metadata": {
        "id": "X83aSFnOC35k"
      }
    },
    {
      "cell_type": "markdown",
      "source": [
        "23. What is the difference between covariance and correlation?"
      ],
      "metadata": {
        "id": "9ZwdCJLkC32G"
      }
    },
    {
      "cell_type": "markdown",
      "source": [
        "- Covariance can be any value which makes it hard to interpret. Correlation is always between -1 and 1 which makes it easier to understand the strength of relationship between variables."
      ],
      "metadata": {
        "id": "IPB-IA-JC3yc"
      }
    },
    {
      "cell_type": "markdown",
      "source": [
        "24. What are some real-world applications of statistics?"
      ],
      "metadata": {
        "id": "Nte05nd8C3u9"
      }
    },
    {
      "cell_type": "markdown",
      "source": [
        "- Statistics is used everywhere - quality control in manufacturing, medical trials for new drugs, market research for businesses, sports analytics, weather forecasting, social media analytics, etc. Pretty much any field that deals with data uses statistics."
      ],
      "metadata": {
        "id": "v2T05IzbC3ra"
      }
    },
    {
      "cell_type": "markdown",
      "source": [
        "# **Practical Questions**"
      ],
      "metadata": {
        "id": "9OuF-0ZtC3nz"
      }
    },
    {
      "cell_type": "markdown",
      "source": [
        "1. How do you calculate the mean, median, and mode of a dataset?"
      ],
      "metadata": {
        "id": "bNfHRghQC3kl"
      }
    },
    {
      "cell_type": "code",
      "source": [
        "# I couldn't understand if I should use the Numpy or not, so I calculated the central\n",
        "#tendency without Numpy ans SciPY\n",
        "\n",
        "data1 = [1, 2, 3, 4, 5, 5, 6, 7, 8, 9]\n",
        "\n",
        "mean1 = sum(data1) / len(data1)\n",
        "print(f\"Mean: {mean1}\")\n",
        "\n",
        "data2 = sorted(data1)\n",
        "n = len(data2)\n",
        "if n % 2 == 0:\n",
        "    median1 = (data2[n//2-1] + data2[n//2]) / 2 #Ajay sir used decimal but it is not recommended\n",
        "else:\n",
        "    median1 = data2[n//2]\n",
        "print(f\"Median: {median1}\")\n",
        "\n",
        "from collections import Counter\n",
        "\n",
        "count1 = Counter(data1)\n",
        "mode1 = count1.most_common(1)[0][0] # most_common is very handy in these situations since it is sorted dict\n",
        "print(f\"Mode: {mode1}\")"
      ],
      "metadata": {
        "colab": {
          "base_uri": "https://localhost:8080/"
        },
        "id": "jD0e8vteHlvT",
        "outputId": "5c2a5074-94bf-4ccd-f98e-ad013d071501"
      },
      "execution_count": 2,
      "outputs": [
        {
          "output_type": "stream",
          "name": "stdout",
          "text": [
            "Mean: 5.0\n",
            "Median: 5.0\n",
            "Mode: 5\n"
          ]
        }
      ]
    },
    {
      "cell_type": "markdown",
      "source": [
        "2. Write a Python program to compute the variance and standard deviation of a dataset."
      ],
      "metadata": {
        "id": "FVUn2VRKGc06"
      }
    },
    {
      "cell_type": "code",
      "source": [
        "import math\n",
        "\n",
        "data2 = [2, 4, 6, 8, 10, 12, 14, 16, 18, 20]\n",
        "\n",
        "mean2 = sum(data2) / len(data2)\n",
        "variance2 = sum((x - mean2) ** 2 for x in data2) / len(data2)\n",
        "std_dev2 = math.sqrt(variance2)\n",
        "\n",
        "print(f\"Variance: {variance2}\")\n",
        "print(f\"Standard Deviation: {std_dev2}\")"
      ],
      "metadata": {
        "colab": {
          "base_uri": "https://localhost:8080/"
        },
        "id": "W6TdZcohJdGN",
        "outputId": "76472c1b-c513-4591-bac4-f386ec187f99"
      },
      "execution_count": 6,
      "outputs": [
        {
          "output_type": "stream",
          "name": "stdout",
          "text": [
            "Variance: 33.0\n",
            "Standard Deviation: 5.744562646538029\n"
          ]
        }
      ]
    },
    {
      "cell_type": "markdown",
      "source": [
        "3. Create a dataset and classify it into nominal, ordinal, interval, and ratio types."
      ],
      "metadata": {
        "id": "tuR5e6lbGcvY"
      }
    },
    {
      "cell_type": "code",
      "source": [
        "data3 = {\n",
        "    'nominal': ['red', 'blue', 'green', 'red', 'blue'],\n",
        "    'ordinal': ['small', 'medium', 'large', 'small', 'large'],\n",
        "    'interval': [20, 25, 30, 22, 28],\n",
        "    'ratio': [0, 70, 80, 65, 75]\n",
        "}\n",
        "\n",
        "print(\"Nominal data (colors):\", data3['nominal'])\n",
        "print(\"Ordinal data (sizes):\", data3['ordinal'])\n",
        "print(\"Interval data (temperature):\", data3['interval'])\n",
        "print(\"Ratio data (weight):\", data3['ratio']) #ratio can have 0"
      ],
      "metadata": {
        "colab": {
          "base_uri": "https://localhost:8080/"
        },
        "id": "YGIWMPXLTxdz",
        "outputId": "5040fbad-aa54-4aff-d93c-3a7e15f167d5"
      },
      "execution_count": 8,
      "outputs": [
        {
          "output_type": "stream",
          "name": "stdout",
          "text": [
            "Nominal data (colors): ['red', 'blue', 'green', 'red', 'blue']\n",
            "Ordinal data (sizes): ['small', 'medium', 'large', 'small', 'large']\n",
            "Interval data (temperature): [20, 25, 30, 22, 28]\n",
            "Ratio data (weight): [0, 70, 80, 65, 75]\n"
          ]
        }
      ]
    },
    {
      "cell_type": "markdown",
      "source": [
        "4. Implement sampling techniques like random sampling and stratified sampling."
      ],
      "metadata": {
        "id": "A4uCno7VGbla"
      }
    },
    {
      "cell_type": "code",
      "source": [
        "import random\n",
        "\n",
        "population4 = list(range(1, 101))\n",
        "\n",
        "random_sample4 = random.sample(population4, 10)\n",
        "print(\"Random sample:\", random_sample4)\n",
        "\n",
        "group4a = list(range(1, 51))\n",
        "group4b = list(range(51, 101))\n",
        "stratified_sample4 = random.sample(group4a, 5) + random.sample(group4b, 5)\n",
        "print(\"Stratified sample:\", stratified_sample4)"
      ],
      "metadata": {
        "colab": {
          "base_uri": "https://localhost:8080/"
        },
        "id": "337rIY1_Vggj",
        "outputId": "40a79261-403b-4994-83bc-fd4e2a20ff0b"
      },
      "execution_count": 9,
      "outputs": [
        {
          "output_type": "stream",
          "name": "stdout",
          "text": [
            "Random sample: [19, 48, 11, 7, 14, 23, 57, 8, 82, 87]\n",
            "Stratified sample: [25, 37, 18, 31, 4, 80, 53, 95, 66, 55]\n"
          ]
        }
      ]
    },
    {
      "cell_type": "markdown",
      "source": [
        "5. Write a Python function to calculate the range of a dataset."
      ],
      "metadata": {
        "id": "YqY4Rlr7Gbgz"
      }
    },
    {
      "cell_type": "code",
      "source": [
        "def calculate_range(data5):\n",
        "    return max(data5) - min(data5)\n",
        "\n",
        "data5 = [5, 10, 15, 20, 25, 30]\n",
        "range5 = calculate_range(data5)\n",
        "print(f\"Range: {range5}\")"
      ],
      "metadata": {
        "colab": {
          "base_uri": "https://localhost:8080/"
        },
        "id": "zcCNHqcFVu6S",
        "outputId": "0ca02fc6-f06e-4d91-e526-bfeb08b0d8a9"
      },
      "execution_count": 10,
      "outputs": [
        {
          "output_type": "stream",
          "name": "stdout",
          "text": [
            "Range: 25\n"
          ]
        }
      ]
    },
    {
      "cell_type": "markdown",
      "source": [
        "6. Create a dataset and plot its histogram to visualize skewness."
      ],
      "metadata": {
        "id": "ttjHeFqEGbbm"
      }
    },
    {
      "cell_type": "code",
      "source": [
        "import matplotlib.pyplot as plt\n",
        "\n",
        "data6 = [1, 2, 2, 3, 3, 3, 4, 4, 5, 6, 7, 8, 9, 10]\n",
        "\n",
        "plt.hist(data6, bins=5)\n",
        "plt.title(\"Histogram of Test Scores\")\n",
        "plt.show()"
      ],
      "metadata": {
        "colab": {
          "base_uri": "https://localhost:8080/",
          "height": 452
        },
        "id": "vk0mZVDtV4rh",
        "outputId": "e36f0163-6e4c-4b2c-8448-0f24fbf45b57"
      },
      "execution_count": 12,
      "outputs": [
        {
          "output_type": "display_data",
          "data": {
            "text/plain": [
              "<Figure size 640x480 with 1 Axes>"
            ],
            "image/png": "[encoded data removed]"
          },
          "metadata": {}
        }
      ]
    },
    {
      "cell_type": "markdown",
      "source": [
        "# OUT OF SYLLABUS\n",
        "\n",
        "7. Calculate skewness and kurtosis of a dataset using Python libraries.\n",
        "\n"
      ],
      "metadata": {
        "id": "4PL9F1VkGbXD"
      }
    },
    {
      "cell_type": "code",
      "source": [
        "from scipy import stats\n",
        "import numpy as np\n",
        "\n",
        "data7 = [1, 2, 3, 4, 5, 6, 7, 8, 9, 10]\n",
        "\n",
        "skewness7 = stats.skew(data7)\n",
        "kurtosis7 = stats.kurtosis(data7)\n",
        "\n",
        "print(f\"Skewness: {skewness7}\")\n",
        "print(f\"Kurtosis: {kurtosis7}\")"
      ],
      "metadata": {
        "colab": {
          "base_uri": "https://localhost:8080/"
        },
        "id": "8DNKI6ByYS5l",
        "outputId": "fd270336-96e2-43d0-f1aa-aefd3a5dfc93"
      },
      "execution_count": 13,
      "outputs": [
        {
          "output_type": "stream",
          "name": "stdout",
          "text": [
            "Skewness: 0.0\n",
            "Kurtosis: -1.2242424242424244\n"
          ]
        }
      ]
    },
    {
      "cell_type": "markdown",
      "source": [
        "8. Generate a dataset and demonstrate positive and negative skewness."
      ],
      "metadata": {
        "id": "YUaX2NLhGbSG"
      }
    },
    {
      "cell_type": "code",
      "source": [
        "import matplotlib.pyplot as plt\n",
        "\n",
        "data8a = [1, 1, 2, 2, 3, 10]\n",
        "\n",
        "data8b = [10, 10, 9, 9, 8, 1]\n",
        "\n",
        "plt.subplot(1, 2, 1)\n",
        "plt.hist(data8a, bins=5)\n",
        "plt.title('Positive Skew')\n",
        "\n",
        "plt.subplot(1, 2, 2)\n",
        "plt.hist(data8b, bins=5)\n",
        "plt.title('Negative Skew')\n",
        "\n",
        "plt.tight_layout()\n",
        "plt.show()\n"
      ],
      "metadata": {
        "colab": {
          "base_uri": "https://localhost:8080/",
          "height": 487
        },
        "id": "5VO9I7mwZxuO",
        "outputId": "31003913-e595-4a42-da02-140233d65fbf"
      },
      "execution_count": 17,
      "outputs": [
        {
          "output_type": "display_data",
          "data": {
            "text/plain": [
              "<Figure size 640x480 with 2 Axes>"
            ],
            "image/png": "[encoded data removed]"
          },
          "metadata": {}
        }
      ]
    },
    {
      "cell_type": "markdown",
      "source": [
        "9. Write a Python script to calculate covariance between two datasets."
      ],
      "metadata": {
        "id": "Bbj5yfJBGbNV"
      }
    },
    {
      "cell_type": "code",
      "source": [
        "def covariance(x, y):\n",
        "    mean_x = sum(x) / len(x)\n",
        "    mean_y = sum(y) / len(y)\n",
        "    cov = sum((x[i] - mean_x) * (y[i] - mean_y) for i in range(len(x))) / len(x)\n",
        "    return cov\n",
        "\n",
        "data9a = [1, 2, 3, 4, 5]\n",
        "data9b = [2, 4, 6, 8, 10]\n",
        "\n",
        "cov9 = covariance(data9a, data9b)\n",
        "print(f\"Covariance: {cov9}\")"
      ],
      "metadata": {
        "colab": {
          "base_uri": "https://localhost:8080/"
        },
        "id": "cCjLTQ7zajLF",
        "outputId": "0aa15e98-4660-4f55-f20b-2a3a06477083"
      },
      "execution_count": 18,
      "outputs": [
        {
          "output_type": "stream",
          "name": "stdout",
          "text": [
            "Covariance: 4.0\n"
          ]
        }
      ]
    },
    {
      "cell_type": "markdown",
      "source": [
        "# The following codes are a bit hard to write manually so I had to use the Libraries"
      ],
      "metadata": {
        "id": "M0ACKm_ZcrZe"
      }
    },
    {
      "cell_type": "markdown",
      "source": [
        "10. Write a Python script to calculate the correlation coefficient between two datasets."
      ],
      "metadata": {
        "id": "jHpRHfSWGbIf"
      }
    },
    {
      "cell_type": "code",
      "source": [
        "import numpy as np\n",
        "\n",
        "data10a = [1, 2, 3, 4, 5]\n",
        "data10b = [2, 4, 6, 8, 10]\n",
        "\n",
        "corr10 = np.corrcoef(data10a, data10b)[0, 1]\n",
        "print(f\"Correlation: {corr10}\")"
      ],
      "metadata": {
        "colab": {
          "base_uri": "https://localhost:8080/"
        },
        "id": "nX4ommelcVzD",
        "outputId": "31ee1ea2-25b2-4056-aa78-86a8c9bb33be"
      },
      "execution_count": 22,
      "outputs": [
        {
          "output_type": "stream",
          "name": "stdout",
          "text": [
            "Correlation: 0.9999999999999999\n"
          ]
        }
      ]
    },
    {
      "cell_type": "markdown",
      "source": [
        "11. Create a scatter plot to visualize the relationship between two variables."
      ],
      "metadata": {
        "id": "fAVcWvo6GbC_"
      }
    },
    {
      "cell_type": "code",
      "source": [
        "import matplotlib.pyplot as plt\n",
        "import numpy as np\n",
        "\n",
        "x11 = [1, 2, 3, 4, 5, 6, 7, 8, 9, 10]\n",
        "y11 = [2, 4, 5, 4, 5, 7, 8, 9, 10, 11]\n",
        "\n",
        "plt.scatter(x11, y11)\n",
        "plt.show()\n",
        "corr = np.corrcoef(x11, y11) [0, 1]\n",
        "print(f\"\\nThe Correlation B/W the two Data set is {corr}\")"
      ],
      "metadata": {
        "colab": {
          "base_uri": "https://localhost:8080/",
          "height": 465
        },
        "id": "61LL9hgqiTn9",
        "outputId": "e803bf4d-d2dc-4a7e-b631-e3579f59ba44"
      },
      "execution_count": 26,
      "outputs": [
        {
          "output_type": "display_data",
          "data": {
            "text/plain": [
              "<Figure size 640x480 with 1 Axes>"
            ],
            "image/png": "[encoded data removed]"
          },
          "metadata": {}
        },
        {
          "output_type": "stream",
          "name": "stdout",
          "text": [
            "\n",
            "The Correlation B/W the two Data set is 0.975456381144309\n"
          ]
        }
      ]
    },
    {
      "cell_type": "markdown",
      "source": [
        "12. Implement and compare simple random sampling and systematic sampling."
      ],
      "metadata": {
        "id": "crUmPidYGa97"
      }
    },
    {
      "cell_type": "code",
      "source": [
        "import pandas as pd\n",
        "import numpy as np\n",
        "\n",
        "population12 = list(range(1, 101))\n",
        "df12 = pd.DataFrame(population12, columns=['values'])\n",
        "\n",
        "random_sample12 = df12.sample(n=10)\n",
        "print(\"Random sampling:\", random_sample12['values'].tolist())\n",
        "\n",
        "systematic_sample12 = df12.iloc[::10]\n",
        "print(\"Systematic sampling:\", systematic_sample12['values'].tolist())"
      ],
      "metadata": {
        "colab": {
          "base_uri": "https://localhost:8080/"
        },
        "id": "_YJe-GJSjHKr",
        "outputId": "707796a0-f1c7-4f11-af11-c8ee9908aabe"
      },
      "execution_count": 27,
      "outputs": [
        {
          "output_type": "stream",
          "name": "stdout",
          "text": [
            "Random sampling: [15, 47, 25, 77, 83, 29, 82, 31, 94, 4]\n",
            "Systematic sampling: [1, 11, 21, 31, 41, 51, 61, 71, 81, 91]\n"
          ]
        }
      ]
    },
    {
      "cell_type": "markdown",
      "source": [
        "13. Calculate the mean, median, and mode of grouped data."
      ],
      "metadata": {
        "id": "mxPS42jIGa4u"
      }
    },
    {
      "cell_type": "code",
      "source": [
        "import pandas as pd\n",
        "import numpy as np\n",
        "\n",
        "data13 = [10, 20, 30, 40, 50, 60, 70, 80, 90, 100]\n",
        "frequencies13 = [2, 5, 8, 12, 18, 15, 10, 7, 4, 2]\n",
        "\n",
        "expanded_data13 = []\n",
        "for i in range(len(data13)):\n",
        "    expanded_data13.extend([data13[i]] * frequencies13[i])\n",
        "\n",
        "df13 = pd.DataFrame(expanded_data13, columns=['values'])\n",
        "\n",
        "mean13 = df13['values'].mean()\n",
        "median13 = df13['values'].median()\n",
        "mode13 = df13['values'].mode()[0]\n",
        "\n",
        "print(f\"Mean: {mean13}\")\n",
        "print(f\"Median: {median13}\")\n",
        "print(f\"Mode: {mode13}\")"
      ],
      "metadata": {
        "colab": {
          "base_uri": "https://localhost:8080/"
        },
        "id": "gJ7Xg8S0jjh9",
        "outputId": "59e4bdb8-574e-48bb-d1a5-f62dd6774c31"
      },
      "execution_count": 28,
      "outputs": [
        {
          "output_type": "stream",
          "name": "stdout",
          "text": [
            "Mean: 53.734939759036145\n",
            "Median: 50.0\n",
            "Mode: 50\n"
          ]
        }
      ]
    },
    {
      "cell_type": "markdown",
      "source": [
        "14. Simulate data using Python and calculate its central tendency and dispersion."
      ],
      "metadata": {
        "id": "sWYpBMt5Gazm"
      }
    },
    {
      "cell_type": "code",
      "source": [
        "import numpy as np\n",
        "import pandas as pd\n",
        "\n",
        "data14 = np.random.normal(50, 10, 100)\n",
        "df14 = pd.DataFrame(data14, columns=['values'])\n",
        "\n",
        "mean14 = df14['values'].mean()\n",
        "median14 = df14['values'].median()\n",
        "std14 = df14['values'].std()\n",
        "var14 = df14['values'].var()\n",
        "\n",
        "print(f\"Mean: {mean14}\")\n",
        "print(f\"Median: {median14}\")\n",
        "print(f\"Standard Deviation: {std14}\")\n",
        "print(f\"Variance: {var14}\")"
      ],
      "metadata": {
        "colab": {
          "base_uri": "https://localhost:8080/"
        },
        "id": "yJVccnOZlZwp",
        "outputId": "6ae9d819-6aa8-489e-c3f9-adb070884283"
      },
      "execution_count": 29,
      "outputs": [
        {
          "output_type": "stream",
          "name": "stdout",
          "text": [
            "Mean: 50.4890872461978\n",
            "Median: 50.422481858742906\n",
            "Standard Deviation: 10.917973411675229\n",
            "Variance: 119.20214341804724\n"
          ]
        }
      ]
    },
    {
      "cell_type": "markdown",
      "source": [
        "15. Use NumPy or pandas to summarize a dataset's descriptive statistics."
      ],
      "metadata": {
        "id": "bcdrcAPMGau3"
      }
    },
    {
      "cell_type": "code",
      "source": [
        "import pandas as pd\n",
        "import numpy as np\n",
        "\n",
        "data15 = np.random.normal(100, 15, 50)\n",
        "df15 = pd.DataFrame(data15, columns=['values'])\n",
        "\n",
        "summary15 = df15.describe()\n",
        "print(summary15)"
      ],
      "metadata": {
        "colab": {
          "base_uri": "https://localhost:8080/"
        },
        "id": "pTkWN-RqldAX",
        "outputId": "75741080-c6aa-4c60-d418-97ea87c270a5"
      },
      "execution_count": 30,
      "outputs": [
        {
          "output_type": "stream",
          "name": "stdout",
          "text": [
            "           values\n",
            "count   50.000000\n",
            "mean   100.047495\n",
            "std     13.815758\n",
            "min     71.892538\n",
            "25%     90.381151\n",
            "50%    100.262283\n",
            "75%    111.014120\n",
            "max    125.694440\n"
          ]
        }
      ]
    },
    {
      "cell_type": "markdown",
      "source": [
        "16. Plot a boxplot to understand the spread and identify outliers."
      ],
      "metadata": {
        "id": "7yWt3gpZGaqZ"
      }
    },
    {
      "cell_type": "code",
      "source": [
        "import matplotlib.pyplot as plt\n",
        "import pandas as pd\n",
        "import numpy as np\n",
        "\n",
        "data16 = np.random.normal(50, 10, 100)\n",
        "data16 = np.append(data16, [90, 95, 5, 10])\n",
        "df16 = pd.DataFrame(data16, columns=['values'])\n",
        "\n",
        "df16.boxplot()\n",
        "plt.show()"
      ],
      "metadata": {
        "colab": {
          "base_uri": "https://localhost:8080/",
          "height": 430
        },
        "id": "Uaj-i2jRloRC",
        "outputId": "7d0a446e-1565-41f3-e0c1-a44d4e26d317"
      },
      "execution_count": 31,
      "outputs": [
        {
          "output_type": "display_data",
          "data": {
            "text/plain": [
              "<Figure size 640x480 with 1 Axes>"
            ],
            "image/png": "[encoded data removed]"
          },
          "metadata": {}
        }
      ]
    },
    {
      "cell_type": "markdown",
      "source": [
        "17. Calculate the interquartile range (IQR) of a dataset."
      ],
      "metadata": {
        "id": "QGpANMVkGamI"
      }
    },
    {
      "cell_type": "code",
      "source": [
        "import pandas as pd\n",
        "\n",
        "data17 = [1, 2, 3, 4, 5, 6, 7, 8, 9, 10, 11, 12, 13, 14, 15]\n",
        "df17 = pd.DataFrame(data17, columns=['values'])\n",
        "\n",
        "q1_17 = df17['values'].quantile(0.25)\n",
        "q3_17 = df17['values'].quantile(0.75)\n",
        "iqr17 = q3_17 - q1_17\n",
        "\n",
        "print(f\"Q1: {q1_17}\")\n",
        "print(f\"Q3: {q3_17}\")\n",
        "print(f\"IQR: {iqr17}\")"
      ],
      "metadata": {
        "colab": {
          "base_uri": "https://localhost:8080/"
        },
        "id": "8xL8MWZwltYw",
        "outputId": "7f706870-a28e-4257-f971-f15e73760378"
      },
      "execution_count": 32,
      "outputs": [
        {
          "output_type": "stream",
          "name": "stdout",
          "text": [
            "Q1: 4.5\n",
            "Q3: 11.5\n",
            "IQR: 7.0\n"
          ]
        }
      ]
    },
    {
      "cell_type": "markdown",
      "source": [
        "# OUT OF SYLLABUS\n",
        "\n",
        "18. Implement Z-score normalization and explain its significance."
      ],
      "metadata": {
        "id": "iU1spR0wGahi"
      }
    },
    {
      "cell_type": "code",
      "source": [
        "from scipy import stats\n",
        "import pandas as pd\n",
        "\n",
        "data18 = [10, 15, 20, 25, 30, 35, 40]\n",
        "df18 = pd.DataFrame(data18, columns=['values'])\n",
        "\n",
        "z_scores18 = stats.zscore(df18['values'])\n",
        "\n",
        "print(\"Original data:\", data18)\n",
        "print(\"Z-scores:\", z_scores18.tolist())\n",
        "print(\"Z-scores help standardize data to compare different datasets\")"
      ],
      "metadata": {
        "colab": {
          "base_uri": "https://localhost:8080/"
        },
        "id": "T2ilNZ4gl1GM",
        "outputId": "50be991e-824a-46d9-e8f4-b38dd267e47b"
      },
      "execution_count": 33,
      "outputs": [
        {
          "output_type": "stream",
          "name": "stdout",
          "text": [
            "Original data: [10, 15, 20, 25, 30, 35, 40]\n",
            "Z-scores: [-1.5, -1.0, -0.5, 0.0, 0.5, 1.0, 1.5]\n",
            "Z-scores help standardize data to compare different datasets\n"
          ]
        }
      ]
    },
    {
      "cell_type": "markdown",
      "source": [
        "19. Compare two datasets using their standard deviations."
      ],
      "metadata": {
        "id": "7mYqLgwxGac8"
      }
    },
    {
      "cell_type": "code",
      "source": [
        "import pandas as pd\n",
        "\n",
        "data19a = [10, 12, 14, 16, 18, 20]\n",
        "data19b = [5, 15, 25, 35, 45, 55]\n",
        "\n",
        "df19a = pd.DataFrame(data19a, columns=['values'])\n",
        "df19b = pd.DataFrame(data19b, columns=['values'])\n",
        "\n",
        "std19a = df19a['values'].std()\n",
        "std19b = df19b['values'].std()\n",
        "\n",
        "print(f\"Dataset 1 std: {std19a}\")\n",
        "print(f\"Dataset 2 std: {std19b}\")\n",
        "\n",
        "if std19a > std19b:\n",
        "    print(\"Dataset 1 is more spread out\")\n",
        "else:\n",
        "    print(\"Dataset 2 is more spread out\")"
      ],
      "metadata": {
        "colab": {
          "base_uri": "https://localhost:8080/"
        },
        "id": "eDJm7D-Ol54M",
        "outputId": "dd9cea91-4e76-48ca-d75f-9200d6dca703"
      },
      "execution_count": 35,
      "outputs": [
        {
          "output_type": "stream",
          "name": "stdout",
          "text": [
            "Dataset 1 std: 3.7416573867739413\n",
            "Dataset 2 std: 18.708286933869708\n",
            "Dataset 2 is more spread out\n"
          ]
        }
      ]
    },
    {
      "cell_type": "markdown",
      "source": [
        "20. Write a Python program to visualize covariance using a heatmap."
      ],
      "metadata": {
        "id": "3U0Ob428GaYa"
      }
    },
    {
      "cell_type": "code",
      "source": [
        "import seaborn as sns\n",
        "import pandas as pd\n",
        "import numpy as np\n",
        "import matplotlib.pyplot as plt\n",
        "\n",
        "data20 = {\n",
        "    'var1': np.random.normal(50, 10, 100),\n",
        "    'var2': np.random.normal(60, 15, 100),\n",
        "    'var3': np.random.normal(70, 12, 100)\n",
        "}\n",
        "\n",
        "df20 = pd.DataFrame(data20)\n",
        "cov_matrix20 = df20.cov()\n",
        "\n",
        "sns.heatmap(cov_matrix20, annot=True)\n",
        "plt.show()"
      ],
      "metadata": {
        "colab": {
          "base_uri": "https://localhost:8080/",
          "height": 432
        },
        "id": "vupxvlP-l_qy",
        "outputId": "933962b6-78f3-485a-b509-fc6c2905831b"
      },
      "execution_count": 36,
      "outputs": [
        {
          "output_type": "display_data",
          "data": {
            "text/plain": [
              "<Figure size 640x480 with 2 Axes>"
            ],
            "image/png": "[encoded data removed]"
          },
          "metadata": {}
        }
      ]
    },
    {
      "cell_type": "markdown",
      "source": [
        "21. Use seaborn to create a correlation matrix for a dataset."
      ],
      "metadata": {
        "id": "akibVAzDGaTx"
      }
    },
    {
      "cell_type": "code",
      "source": [
        "import seaborn as sns\n",
        "import pandas as pd\n",
        "import numpy as np\n",
        "import matplotlib.pyplot as plt\n",
        "\n",
        "data21 = {\n",
        "    'height': np.random.normal(170, 10, 50),\n",
        "    'weight': np.random.normal(70, 15, 50),\n",
        "    'age': np.random.normal(25, 5, 50)\n",
        "}\n",
        "\n",
        "df21 = pd.DataFrame(data21)\n",
        "corr_matrix21 = df21.corr()\n",
        "\n",
        "sns.heatmap(corr_matrix21, annot=True)\n",
        "plt.show()"
      ],
      "metadata": {
        "colab": {
          "base_uri": "https://localhost:8080/",
          "height": 435
        },
        "id": "0NMBVL1smEFY",
        "outputId": "53c76dd2-2045-40b1-8364-7cd687635db7"
      },
      "execution_count": 37,
      "outputs": [
        {
          "output_type": "display_data",
          "data": {
            "text/plain": [
              "<Figure size 640x480 with 2 Axes>"
            ],
            "image/png": "[encoded data removed]"
          },
          "metadata": {}
        }
      ]
    },
    {
      "cell_type": "markdown",
      "source": [
        "22. Generate a dataset and implement both variance and standard deviation computations."
      ],
      "metadata": {
        "id": "B38Ill8XGaPP"
      }
    },
    {
      "cell_type": "code",
      "source": [
        "import pandas as pd\n",
        "\n",
        "data22 = [5, 10, 15, 20, 25, 30, 35, 40]\n",
        "df22 = pd.DataFrame(data22, columns=['values'])\n",
        "\n",
        "mean22 = df22['values'].mean()\n",
        "variance22 = df22['values'].var()\n",
        "std_dev22 = df22['values'].std()\n",
        "\n",
        "print(f\"Data: {data22}\")\n",
        "print(f\"Mean: {mean22}\")\n",
        "print(f\"Variance: {variance22}\")\n",
        "print(f\"Standard Deviation: {std_dev22}\")"
      ],
      "metadata": {
        "colab": {
          "base_uri": "https://localhost:8080/"
        },
        "id": "DzribdnsmKzG",
        "outputId": "b825e08b-463e-4a85-f6f3-6f3dd75bb9e1"
      },
      "execution_count": 38,
      "outputs": [
        {
          "output_type": "stream",
          "name": "stdout",
          "text": [
            "Data: [5, 10, 15, 20, 25, 30, 35, 40]\n",
            "Mean: 22.5\n",
            "Variance: 150.0\n",
            "Standard Deviation: 12.24744871391589\n"
          ]
        }
      ]
    },
    {
      "cell_type": "markdown",
      "source": [
        "# OUT OF SYLLABUS\n",
        "\n",
        "23. Visualize skewness and kurtosis using Python libraries like matplotlib or seaborn."
      ],
      "metadata": {
        "id": "u4u5Kc3eGaK7"
      }
    },
    {
      "cell_type": "code",
      "source": [
        "import matplotlib.pyplot as plt\n",
        "import pandas as pd\n",
        "import numpy as np\n",
        "from scipy import stats\n",
        "\n",
        "data23 = np.random.gamma(2, 2, 1000)\n",
        "df23 = pd.DataFrame(data23, columns=['values'])\n",
        "\n",
        "skew23 = df23['values'].skew()\n",
        "kurt23 = df23['values'].kurtosis()\n",
        "\n",
        "plt.hist(data23, bins=30)\n",
        "plt.title(f'Skewness: {skew23:.2f}, Kurtosis: {kurt23:.2f}')\n",
        "plt.show()"
      ],
      "metadata": {
        "colab": {
          "base_uri": "https://localhost:8080/",
          "height": 452
        },
        "id": "hrclqb1lmXoM",
        "outputId": "8dfa25ac-8c4d-408a-fa62-f595d10a3d6b"
      },
      "execution_count": 39,
      "outputs": [
        {
          "output_type": "display_data",
          "data": {
            "text/plain": [
              "<Figure size 640x480 with 1 Axes>"
            ],
            "image/png": "[encoded data removed]"
          },
          "metadata": {}
        }
      ]
    },
    {
      "cell_type": "markdown",
      "source": [
        "24. Implement the Pearson and Spearman correlation coefficients for a dataset."
      ],
      "metadata": {
        "id": "M8bIy8ViGaGv"
      }
    },
    {
      "cell_type": "code",
      "source": [
        "from scipy import stats\n",
        "import pandas as pd\n",
        "\n",
        "data24a = [23, 45, 12, 67, 34, 89, 56, 21, 78, 43]\n",
        "data24b = [25, 52, 18, 71, 38, 95, 61, 19, 82, 47]\n",
        "\n",
        "df24 = pd.DataFrame({'x': data24a, 'y': data24b})\n",
        "\n",
        "pearson_corr24 = df24['x'].corr(df24['y'], method='pearson')\n",
        "spearman_corr24 = df24['x'].corr(df24['y'], method='spearman')\n",
        "\n",
        "print(f\"Pearson correlation: {pearson_corr24}\")\n",
        "print(f\"Spearman correlation: {spearman_corr24}\")"
      ],
      "metadata": {
        "colab": {
          "base_uri": "https://localhost:8080/"
        },
        "id": "_nO0fnlBmhZk",
        "outputId": "a0daa7a9-777a-433c-8664-45c920e849b7"
      },
      "execution_count": 41,
      "outputs": [
        {
          "output_type": "stream",
          "name": "stdout",
          "text": [
            "Pearson correlation: 0.9960936773422572\n",
            "Spearman correlation: 0.9999999999999999\n"
          ]
        }
      ]
    },
    {
      "cell_type": "markdown",
      "source": [
        "BY -\n",
        "\n",
        "# Arghadeep Misra\n",
        "## arghadeepmisra@gmail.com\n",
        "### 8250675419"
      ],
      "metadata": {
        "id": "ZbKX7bbEGYuH"
      }
    }
  ]
}