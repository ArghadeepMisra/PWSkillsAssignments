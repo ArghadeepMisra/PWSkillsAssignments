{
  "nbformat": 4,
  "nbformat_minor": 0,
  "metadata": {
    "colab": {
      "provenance": []
    },
    "kernelspec": {
      "name": "python3",
      "display_name": "Python 3"
    },
    "language_info": {
      "name": "python"
    }
  },
  "cells": [
    {
      "cell_type": "markdown",
      "source": [
        "# **Python OOPs**"
      ],
      "metadata": {
        "id": "TmsFlfYKPFkn"
      }
    },
    {
      "cell_type": "markdown",
      "source": [
        "# Theoratical Question"
      ],
      "metadata": {
        "id": "jr0jrG_mO_gU"
      }
    },
    {
      "cell_type": "markdown",
      "source": [
        "1. What is Object-Oriented Programming (OOP) ?"
      ],
      "metadata": {
        "id": "EfpuOt8epA37"
      }
    },
    {
      "cell_type": "markdown",
      "source": [
        "- Object Oriented Programming is an advanced version of the Procedural programming that uses objects to simplyfy the rather complex work flows of the classical methodical languages like C.\n",
        "\n",
        "So what happenes is - The program is built and used upon objects, and Objects are the complete structure of a blueprint that is previously written. This makes the code re usable and as well as organised to a certain degree.  "
      ],
      "metadata": {
        "id": "dT2L5AqbpA1P"
      }
    },
    {
      "cell_type": "markdown",
      "source": [
        "2. What is a class in OOP?"
      ],
      "metadata": {
        "id": "1JKeVYB-pAyd"
      }
    },
    {
      "cell_type": "markdown",
      "source": [
        "- Class is the structure of the Object. It holds the methods that will be used to create and run the object and attributes that will give values to the object.\n",
        "\n",
        "Suppose you want to declare an Object, but what is the purpose of the Object , that will be defined by the Class. The class is simply the instruction set of the object that will be used by the object to create it's identity."
      ],
      "metadata": {
        "id": "coh5Az89pAv0"
      }
    },
    {
      "cell_type": "markdown",
      "source": [
        "3. What is an object in OOP?"
      ],
      "metadata": {
        "id": "TGxloemipAtX"
      }
    },
    {
      "cell_type": "markdown",
      "source": [
        "- As I already Explained the Class, which is the Blueprint of the Object. Object is simply a living version of the class.\n",
        "\n",
        "So class is the structure of the Object, it hold what tha object will be. When an object gets created, it holds what the class allowed it to hold. What value ? how the value will be stored ?\n",
        "\n",
        "Object is a living defination of the Class, that shapes itself with the blueprint that class provides. With it's mostly unique names and values."
      ],
      "metadata": {
        "id": "XYNpn1QApAq0"
      }
    },
    {
      "cell_type": "markdown",
      "source": [
        "4. What is the difference between abstraction and encapsulation?"
      ],
      "metadata": {
        "id": "vgboAwmtpAoU"
      }
    },
    {
      "cell_type": "markdown",
      "source": [
        "- Abstraction is a wrapping mechanism - which simply means that , since something is too complex or long , user don't have to see it. The working is more than justified , no need to know the internal mechanism to make it work.\n",
        "\n",
        "- Encapsulation on the other hand is a completely different security related topic, which hides the data from the user for vaulnaribility purposes. By using Public and Private visibility you can hide what you don't want to show to the user."
      ],
      "metadata": {
        "id": "ozb6aBtupAln"
      }
    },
    {
      "cell_type": "markdown",
      "source": [
        "5. 5. What are dunder methods in Python?"
      ],
      "metadata": {
        "id": "lPknPcc9pAi7"
      }
    },
    {
      "cell_type": "markdown",
      "source": [
        "- Dunder methods in python is a Magic Fuction that is used to direct/follow predefined fuction of the class. It is written like\n",
        "```\n",
        "__method__\n",
        "```\n",
        "\n",
        "- So why it is important ? It is already inbuilt in the python programming language that helps us to do some neat things like intializing constructor function, getting string output, addition of particular values / attributes.\n"
      ],
      "metadata": {
        "id": "JXydQKcSpAdt"
      }
    },
    {
      "cell_type": "markdown",
      "source": [
        "6. Explain the concept of inheritance in OOP."
      ],
      "metadata": {
        "id": "MqNQ6hgbpAa9"
      }
    },
    {
      "cell_type": "markdown",
      "source": [
        "- Inheritance simply means, absorbing other classes into a class. Why ?\n",
        "\n",
        "Suppose you have a small class that has it's inbuilt attributes yet there is an another big class that you need to copy in the small class. So now if you write the whole class internals in the small class, it would be redundant to write again and again,and this is called reusability.\n",
        "\n",
        "What we can do by inheritance is , simply inherit all the function and attributes from the big class to the small class by a simple word arguement only."
      ],
      "metadata": {
        "id": "_7Vdk5zvpAWS"
      }
    },
    {
      "cell_type": "markdown",
      "source": [
        "7. What is polymorphism in OOP?"
      ],
      "metadata": {
        "id": "9mYTW-wnpAPa"
      }
    },
    {
      "cell_type": "markdown",
      "source": [
        "- Polymorphism basically states that even if you are a same object , you can still use differnt functions that will treat you like a different object but the base class / structure will be the same.\n",
        "\n",
        "Suppose there is a class of shapes that can calculate the surface area of a circle. Now there is also a class that resembles pizza. Now that we know, pizza is round and shape can help us calculate the surface area of the pizza. So we can use that function to calculate eventhough it's not in te pizza's attribure."
      ],
      "metadata": {
        "id": "c2haUewppAJw"
      }
    },
    {
      "cell_type": "markdown",
      "source": [
        "8. How is encapsulation achieved in Python?"
      ],
      "metadata": {
        "id": "W7-mRb0GpAA7"
      }
    },
    {
      "cell_type": "markdown",
      "source": [
        "- Encapsulation in python is achieved by hiding the data outside from the class.\n",
        "\n",
        "in the __init__ method, when you provide the _data / value name with _ attached to the front, what happens it , python restricts the data to be accessed by outside of the class.\n",
        "\n",
        "Then how would we be getting that valu ? By defining getter method, inside the class. Which means there is a filter with which we can controll how mych data we can leak to the user."
      ],
      "metadata": {
        "id": "nFFyWlX3pImb"
      }
    },
    {
      "cell_type": "markdown",
      "source": [
        "9. What is a constructor in Python?"
      ],
      "metadata": {
        "id": "lyl68sxwpIju"
      }
    },
    {
      "cell_type": "markdown",
      "source": [
        "- Construction in python is the initial step that gets performed after an object gets created. When an object calls to be created, it runs the initialization function in the main class / super class. It initializes values and fuctions to start the object. If we don't define one , then a default constructor is provided by the python."
      ],
      "metadata": {
        "id": "RVWceYofpIhC"
      }
    },
    {
      "cell_type": "markdown",
      "source": [
        "10. What are class and static methods in Python?"
      ],
      "metadata": {
        "id": "QJ1XYupDpIeX"
      }
    },
    {
      "cell_type": "markdown",
      "source": [
        "I already explained class in the 2nd Number Question\n",
        "- Class methods are those which runs in the class itself. So when we initiate an object what it does it, it makes the replica of the class and we use self keyword to use it's values.\n",
        "\n",
        "Now class methods are those which takes the class attributes and do work with them. Example - To keep a track using count we can easily take a variable defined in the class and update that with each object creation.\n",
        "\n",
        "- Static methods are very simple , they don't take any instance of the object or class. They act as an standalone method that can be called upon the class globally withough any instantiation.  "
      ],
      "metadata": {
        "id": "Ma2THiXhpIbu"
      }
    },
    {
      "cell_type": "markdown",
      "source": [
        "11. What is method overloading in Python?"
      ],
      "metadata": {
        "id": "c26ZRKtbpIZI"
      }
    },
    {
      "cell_type": "markdown",
      "source": [
        "- Python doesn't support method Overloading wheere you can define 10 methods with different attributes and it can pick one of the method which suits th instruction more\n",
        "\n",
        "Python already accepts the parameters that are both \"Default\" / \"Not Required\", which means you can set any number of parameters in the fuction and if you don't provide it , it doesn't care, the internal fuction will take care of the logic based on what you provided.\n",
        "\n",
        "Or you can focefully do method overriding with if/else statement which is a bad practice."
      ],
      "metadata": {
        "id": "SBNeVRpRpIWg"
      }
    },
    {
      "cell_type": "markdown",
      "source": [
        "12. What is method overriding in OOP?"
      ],
      "metadata": {
        "id": "ZRQuphg2pIUE"
      }
    },
    {
      "cell_type": "markdown",
      "source": [
        "- Method overriding is a simple precedence based calculation that can be achieved by providing same method name to the child, so the program will use the child's method instead of the super class method. This is called tha method overriding."
      ],
      "metadata": {
        "id": "FmD8IUvzpIRV"
      }
    },
    {
      "cell_type": "markdown",
      "source": [
        "13. 13. What is a property decorator in Python?"
      ],
      "metadata": {
        "id": "wZ2fauhipIO4"
      }
    },
    {
      "cell_type": "markdown",
      "source": [
        "- Property decorator in python is used to create methods like Getters, setters, dleters. So that if can be used outside the class as an attribute only."
      ],
      "metadata": {
        "id": "qTi0e5oUpIMM"
      }
    },
    {
      "cell_type": "markdown",
      "source": [
        "14. Why is polymorphism important in OOP?"
      ],
      "metadata": {
        "id": "JueRo8Q3pIJp"
      }
    },
    {
      "cell_type": "markdown",
      "source": [
        "- Polymorphism is mainly important to reduce the code writing / rdunndancy.\n",
        "\n",
        "Polymorphisom mainly allows us to use classes with different classes which makes it very flexible internally.Which at the end , results in a much less code.  "
      ],
      "metadata": {
        "id": "tfOCVK5KpIGs"
      }
    },
    {
      "cell_type": "markdown",
      "source": [
        "15. What is an abstract class in Python?"
      ],
      "metadata": {
        "id": "JUmmCUBw24kR"
      }
    },
    {
      "cell_type": "markdown",
      "source": [
        "- Abstract class in python are empty class in the super class which you can inherit but have to put your own defination to run. And there is a rule that you must need to dfine all the classs to continue using it.\n",
        "\n",
        "Why is it neccesery ? To ensure hard rules to th structure of the code"
      ],
      "metadata": {
        "id": "Eqins6xb24YD"
      }
    },
    {
      "cell_type": "markdown",
      "source": [
        "16. What are the advantages of OOP?"
      ],
      "metadata": {
        "id": "SZUfN3dwpIEB"
      }
    },
    {
      "cell_type": "markdown",
      "source": [
        "-  1. Code Reusability 2. Modularity 3. Security 4. Easy Maintainability 5. Flexibility 6. Scalability\n",
        "\n",
        "In modern use cases OOP provids exceptional value , thus even corporations who are built upon procedural languages like C , transitioned from methodological struction to OOP Structure by using custom libraries."
      ],
      "metadata": {
        "id": "axCpSq6EpIAo"
      }
    },
    {
      "cell_type": "markdown",
      "source": [
        "17. What is the difference between a class variable and an instance variable?"
      ],
      "metadata": {
        "id": "TfJ9qgOCpHnT"
      }
    },
    {
      "cell_type": "markdown",
      "source": [
        "- The differnece between them is massiv\n",
        "\n",
        "Class variables are the constant variables in the class , that can be used by all the othe objects. So changin it will affect all of the objects.\n",
        "\n",
        "on the other hand Instance Variables are unique to the objct. That are provided when the object is getting created. That object has the single most responsibility of the variable."
      ],
      "metadata": {
        "id": "Pzh-4WJ8pHGL"
      }
    },
    {
      "cell_type": "markdown",
      "source": [
        "18. What is multiple inheritance in Python?"
      ],
      "metadata": {
        "id": "eKbQPgdgpGty"
      }
    },
    {
      "cell_type": "markdown",
      "source": [
        "- Multiple inheritance is mainly the inheritance of the multiple parent classes. When a class inherits more than one class , it falls under the \"Multiple Inheritance\"\n",
        "\n",
        "So there is a problem, that happens when this thing occurs. If there is more than one method available in the parent class the , clash might happen. To resolve that, Python integrated Method Resolution Order."
      ],
      "metadata": {
        "id": "GNfxE2oJpQPJ"
      }
    },
    {
      "cell_type": "markdown",
      "source": [
        "19. Explain the purpose of '__str__' and '__repr__' methods in Python."
      ],
      "metadata": {
        "id": "aHwjF8XTpQMB"
      }
    },
    {
      "cell_type": "markdown",
      "source": [
        "- __str__ method returns a string to the user. With the attribute name like \"name: Argha, Age = 24\"\n",
        "\n",
        "\n",
        "- __repr__ method returns a string that is foundational in nature without the attribure \"Student(\"Argha\", 20) \""
      ],
      "metadata": {
        "id": "hxre_qICpQJq"
      }
    },
    {
      "cell_type": "markdown",
      "source": [
        "20. What is the significance of the 'super()' function in Python?"
      ],
      "metadata": {
        "id": "KGW2FJH2pQGr"
      }
    },
    {
      "cell_type": "markdown",
      "source": [
        "- Super Function is used to get the attributes from the parent class or super class.\n",
        "\n",
        "It is neccesery when working with - 1) Inheritance 2) Accessing Parent Class Atributes etc.\n",
        "\n",
        "It is benifitial because even when the super class name changes we can still use the code that we have written using the super keyword."
      ],
      "metadata": {
        "id": "pERJW_z_pQEV"
      }
    },
    {
      "cell_type": "markdown",
      "source": [
        "21. What is the significance of the __del__ method in Python+"
      ],
      "metadata": {
        "id": "6rzDBvlApQBm"
      }
    },
    {
      "cell_type": "markdown",
      "source": [
        "- del is a destructor method that is used to destroy an object. This is mostly automated and we cant controll it.\n",
        "\n",
        "This is also known as a feature of the Python's garbage collection."
      ],
      "metadata": {
        "id": "ICisiy2l75y6"
      }
    },
    {
      "cell_type": "markdown",
      "source": [
        "22. What is the difference between @staticmethod and @classmethod in Python?"
      ],
      "metadata": {
        "id": "GIl3QwIBpPdc"
      }
    },
    {
      "cell_type": "markdown",
      "source": [
        "- Class methods recieve class instance as soon as they are initialized where Static methods doesn't recieve anything unless provided.\n",
        "\n",
        "- Class methods can access and modify class variables where static methods can't access the instance or class variables, it has it's own data.\n",
        "\n",
        "- Class methods is used to define the class in a larger scope where static methods are independent and acts like a utility function to the class."
      ],
      "metadata": {
        "id": "ZQos5qbbpPao"
      }
    },
    {
      "cell_type": "markdown",
      "source": [
        "23. How does polymorphism work in Python with inheritance?"
      ],
      "metadata": {
        "id": "KF1mvkT9pPXx"
      }
    },
    {
      "cell_type": "markdown",
      "source": [
        "- Polymorphism in Inheritence is a very interesting concept.\n",
        "\n",
        "Supose you make Objects that are same in the base. Yet they offer certain charactaristics.\n",
        "\n",
        "So by using method overridng we can change the class attribute or if there is no attribute in the first place we can declare one. Which changes the out put of the program.\n",
        "\n",
        "In this way we can do Polymorphism using inheritance."
      ],
      "metadata": {
        "id": "YIUtmDfqpPUW"
      }
    },
    {
      "cell_type": "markdown",
      "source": [
        "24. What is method chaining in Python OOP?"
      ],
      "metadata": {
        "id": "r_jXsGFPpPN7"
      }
    },
    {
      "cell_type": "markdown",
      "source": [
        "Method chaining looks like this\n",
        "\n",
        "object.work1().work2().work3().work4()\n",
        "\n",
        "Each method works something and passes the value to the next method.\n",
        "\n",
        "The one caveat is you have to return self to the next object because you are passing your whole instance as a object and not some attribute to carry on.\n"
      ],
      "metadata": {
        "id": "BZVa9KempVlM"
      }
    },
    {
      "cell_type": "markdown",
      "source": [
        "25. What is the purpose of the __call__ method in Python?"
      ],
      "metadata": {
        "id": "FodzG7nopVdp"
      }
    },
    {
      "cell_type": "markdown",
      "source": [
        "- __call__ function in the python acts like a instance of the class.\n",
        "\n",
        " It will take the data and pass it to the __call__ function when called upon after initializing the object.\n",
        "\n",
        "This is valuable when you want to create classes that are functioned like a normal function"
      ],
      "metadata": {
        "id": "VrdCpZDYpO5q"
      }
    },
    {
      "cell_type": "markdown",
      "source": [
        "# PRACTICAL QUESTIONS"
      ],
      "metadata": {
        "id": "08_MfRWIBtCA"
      }
    },
    {
      "cell_type": "markdown",
      "source": [
        "1. Create a parent class Animal with a method speak() that prints a generic message. Create a child class Dog\n",
        "that overrides the speak() method to print \"Bark!\"."
      ],
      "metadata": {
        "id": "hmXzKV7KB0ii"
      }
    },
    {
      "cell_type": "code",
      "source": [
        "class Animal:\n",
        "    def speak(self):\n",
        "        print(\"Sound\")\n",
        "\n",
        "class Dog(Animal):\n",
        "    def speak(self):\n",
        "        print(\"Bark\")\n",
        "\n",
        "animal = Animal()\n",
        "animal.speak()\n",
        "dog = Dog()\n",
        "dog.speak()"
      ],
      "metadata": {
        "colab": {
          "base_uri": "https://localhost:8080/"
        },
        "id": "z3HC3E6nEhO8",
        "outputId": "4faff191-9d69-4622-ce21-717f501c39a1"
      },
      "execution_count": 2,
      "outputs": [
        {
          "output_type": "stream",
          "name": "stdout",
          "text": [
            "Sound\n",
            "Bark\n"
          ]
        }
      ]
    },
    {
      "cell_type": "markdown",
      "source": [
        "2. Write a program to create an abstract class Shape with a method area(). Derive classes Circle and Rectangle\n",
        "from it and implement the area() method in both."
      ],
      "metadata": {
        "id": "Vw4uXWblB0fz"
      }
    },
    {
      "cell_type": "code",
      "source": [
        "from abc import ABC, abstractmethod\n",
        "\n",
        "class Shape(ABC):\n",
        "    @abstractmethod\n",
        "    def area(self):\n",
        "        pass\n",
        "\n",
        "class Circle(Shape):\n",
        "    def __init__(self, radius):\n",
        "        self.radius = radius\n",
        "\n",
        "    def area(self):\n",
        "        return 3.14 * self.radius * self.radius\n",
        "\n",
        "class Rectangle(Shape):\n",
        "    def __init__(self, length, width):\n",
        "        self.length = length\n",
        "        self.width = width\n",
        "\n",
        "    def area(self):\n",
        "        return self.length * self.width\n",
        "\n",
        "circle = Circle(5)\n",
        "print(\"Circle area:\", circle.area())\n",
        "rectangle = Rectangle(4, 6)\n",
        "print(\"Rectangle area:\", rectangle.area())"
      ],
      "metadata": {
        "colab": {
          "base_uri": "https://localhost:8080/"
        },
        "id": "2brPvlrdE47d",
        "outputId": "293bf6ec-5e0f-475a-f727-b76acf8625a9"
      },
      "execution_count": 3,
      "outputs": [
        {
          "output_type": "stream",
          "name": "stdout",
          "text": [
            "Circle area: 78.5\n",
            "Rectangle area: 24\n"
          ]
        }
      ]
    },
    {
      "cell_type": "markdown",
      "source": [
        "3. Implement a multi-level inheritance scenario where a class Vehicle has an attribute type. Derive a class Car\n",
        "and further derive a class ElectricCar that adds a battery attribute."
      ],
      "metadata": {
        "id": "yZSeI1_sB0dE"
      }
    },
    {
      "cell_type": "code",
      "source": [
        "class Vehicle:\n",
        "    def __init__(self, type):\n",
        "        self.type = type\n",
        "\n",
        "class Car(Vehicle):\n",
        "    def __init__(self, type, brand):\n",
        "        super().__init__(type)\n",
        "        self.brand = brand\n",
        "\n",
        "class ElectricCar(Car):\n",
        "    def __init__(self, type, brand, battery):\n",
        "        super().__init__(type, brand)\n",
        "        self.battery = battery\n",
        "\n",
        "tesla = ElectricCar(\"Electric\", \"Tesla\", \"100kWh\")\n",
        "print(\"Type:\", tesla.type)\n",
        "print(\"Brand:\", tesla.brand)\n",
        "print(\"Battery:\", tesla.battery)"
      ],
      "metadata": {
        "colab": {
          "base_uri": "https://localhost:8080/"
        },
        "id": "YCtOTj9NF5ll",
        "outputId": "8656d511-e91d-4a77-9858-d892bc4cc0c5"
      },
      "execution_count": 4,
      "outputs": [
        {
          "output_type": "stream",
          "name": "stdout",
          "text": [
            "Type: Electric\n",
            "Brand: Tesla\n",
            "Battery: 100kWh\n"
          ]
        }
      ]
    },
    {
      "cell_type": "markdown",
      "source": [
        "4. Demonstrate polymorphism by creating a base class Bird with a method fly(). Create two derived classes\n",
        "Sparrow and Penguin that override the fly() method."
      ],
      "metadata": {
        "id": "yhzOou4nB0ai"
      }
    },
    {
      "cell_type": "code",
      "source": [
        "class Bird:\n",
        "    def fly(self):\n",
        "        print(\"Bird is flying\")\n",
        "\n",
        "class Sparrow(Bird):\n",
        "    def fly(self):\n",
        "        print(\"Sparrow flies swiftly in the sky\")\n",
        "\n",
        "class Penguin(Bird):\n",
        "    def fly(self):\n",
        "        print(\"Penguin cannot fly but swims\")\n",
        "\n",
        "s = Sparrow()\n",
        "p = Penguin()\n",
        "s.fly()\n",
        "p.fly()"
      ],
      "metadata": {
        "colab": {
          "base_uri": "https://localhost:8080/"
        },
        "id": "kHXB4JNGGlPB",
        "outputId": "238d565e-54e2-4da8-e495-c602f8b44d01"
      },
      "execution_count": 9,
      "outputs": [
        {
          "output_type": "stream",
          "name": "stdout",
          "text": [
            "Sparrow flies swiftly in the sky\n",
            "Penguin cannot fly but swims\n"
          ]
        }
      ]
    },
    {
      "cell_type": "markdown",
      "source": [
        "5. Write a program to demonstrate encapsulation by creating a class BankAccount with private attributes\n",
        "balance and methods to deposit, withdraw, and check balance."
      ],
      "metadata": {
        "id": "Xbjs7dV9B0Vm"
      }
    },
    {
      "cell_type": "code",
      "source": [
        "class BankAccount:\n",
        "    def __init__(self):\n",
        "        self.__balance = 0\n",
        "\n",
        "    def deposit(self, amount):\n",
        "        if amount > 0:\n",
        "            self.__balance = self.__balance + amount\n",
        "            print(\"Deposited Rs.\" + str(amount))\n",
        "        else:\n",
        "            print(\"Invalid amount\")\n",
        "\n",
        "    def withdraw(self, amt):\n",
        "        if amt <= self.__balance and amt > 0:\n",
        "            self.__balance = self.__balance - amt\n",
        "            print(\"Withdrawn Rs.\" + str(amt))\n",
        "        else:\n",
        "            print(\"Insufficient balance or invalid amount\")\n",
        "\n",
        "    def check_balance(self):\n",
        "        bal = self.__balance\n",
        "        return bal\n",
        "\n",
        "acc = BankAccount()\n",
        "acc.deposit(1000)\n",
        "acc.withdraw(500)\n",
        "print(\"Current balance: Rs.\" + str(acc.check_balance()))"
      ],
      "metadata": {
        "colab": {
          "base_uri": "https://localhost:8080/"
        },
        "id": "ofaH5M75Haad",
        "outputId": "a09b6b88-fe69-43f5-9726-bec952b92d41"
      },
      "execution_count": 10,
      "outputs": [
        {
          "output_type": "stream",
          "name": "stdout",
          "text": [
            "Deposited Rs.1000\n",
            "Withdrawn Rs.500\n",
            "Current balance: Rs.500\n"
          ]
        }
      ]
    },
    {
      "cell_type": "markdown",
      "source": [
        "6. Demonstrate runtime polymorphism using a method play() in a base class Instrument. Derive classes Guitar\n",
        "and Piano that implement their own version of play()."
      ],
      "metadata": {
        "id": "WwfwTlSrH3B8"
      }
    },
    {
      "cell_type": "code",
      "source": [
        "class Instrument:\n",
        "    def play(self):\n",
        "        print(\"Playing an instrument\")\n",
        "\n",
        "class Guitar(Instrument):\n",
        "    def play(self):\n",
        "        print(\"Strumming the guitar strings\")\n",
        "\n",
        "class Piano(Instrument):\n",
        "    def play(self):\n",
        "        print(\"Playing piano keys\")\n",
        "\n",
        "guitar = Guitar()\n",
        "piano = Piano()\n",
        "inst = Instrument()\n",
        "\n",
        "guitar.play()\n",
        "piano.play()\n",
        "inst.play()"
      ],
      "metadata": {
        "colab": {
          "base_uri": "https://localhost:8080/"
        },
        "id": "Uv2hxZudH6Fx",
        "outputId": "32916899-fbd1-464e-c292-8dad32fc369b"
      },
      "execution_count": 11,
      "outputs": [
        {
          "output_type": "stream",
          "name": "stdout",
          "text": [
            "Strumming the guitar strings\n",
            "Playing piano keys\n",
            "Playing an instrument\n"
          ]
        }
      ]
    },
    {
      "cell_type": "markdown",
      "source": [
        "7. Create a class MathOperations with a class method add_numbers() to add two numbers and a static\n",
        "method subtract_numbers() to subtract two numbers."
      ],
      "metadata": {
        "id": "g58uaqhlB0TC"
      }
    },
    {
      "cell_type": "code",
      "source": [
        "class MathOperations:\n",
        "    @classmethod\n",
        "    def add_numbers(cls, num1, num2):\n",
        "        sum = num1 + num2\n",
        "        return sum\n",
        "\n",
        "    @staticmethod\n",
        "    def subtract_numbers(x, y):\n",
        "        return x - y\n",
        "\n",
        "ans1 = MathOperations.add_numbers(10, 5)\n",
        "ans2 = MathOperations.subtract_numbers(10, 5)\n",
        "print(\"Addition: 10 + 5 =\", ans1)\n",
        "print(\"Subtraction: 10 - 5 =\", ans2)"
      ],
      "metadata": {
        "colab": {
          "base_uri": "https://localhost:8080/"
        },
        "id": "psPQk1jMIO-T",
        "outputId": "05a53569-0892-41a9-a69e-bf64aa7da819"
      },
      "execution_count": 12,
      "outputs": [
        {
          "output_type": "stream",
          "name": "stdout",
          "text": [
            "Addition: 10 + 5 = 15\n",
            "Subtraction: 10 - 5 = 5\n"
          ]
        }
      ]
    },
    {
      "cell_type": "markdown",
      "source": [
        "8. Implement a class Person with a class method to count the total number of persons created."
      ],
      "metadata": {
        "id": "BpE1fCifB0Qn"
      }
    },
    {
      "cell_type": "code",
      "source": [
        "class Person:\n",
        "    count = 0\n",
        "\n",
        "    def __init__(self, name):\n",
        "        self.name = name\n",
        "        Person.count = Person.count + 1\n",
        "\n",
        "    @classmethod\n",
        "    def get_count(cls):\n",
        "        return cls.count\n",
        "\n",
        "p1 = Person(\"Arghadeep\")\n",
        "p2 = Person(\"Dwight Schrute\")\n",
        "p3 = Person(\"Bruce Wayne\")\n",
        "total = Person.get_count()\n",
        "print(\"Total persons created:\", total)"
      ],
      "metadata": {
        "colab": {
          "base_uri": "https://localhost:8080/"
        },
        "id": "4JL20t7XIuVH",
        "outputId": "9e5bfbe5-fc1b-4260-806c-973da3ea0ca3"
      },
      "execution_count": 13,
      "outputs": [
        {
          "output_type": "stream",
          "name": "stdout",
          "text": [
            "Total persons created: 3\n"
          ]
        }
      ]
    },
    {
      "cell_type": "markdown",
      "source": [
        "9. Write a class Fraction with attributes numerator and denominator. Override the str method to display the\n",
        "fraction as \"numerator/denominator\"."
      ],
      "metadata": {
        "id": "VRc0Rv6bB0Ns"
      }
    },
    {
      "cell_type": "code",
      "source": [
        "class Fraction:\n",
        "    def __init__(self, num, den):\n",
        "        self.numerator = num\n",
        "        self.denominator = den\n",
        "\n",
        "    def __str__(self):\n",
        "        string = str(self.numerator) + \"/\" + str(self.denominator)\n",
        "        return string\n",
        "\n",
        "f1 = Fraction(3, 4)\n",
        "f2 = Fraction(1, 2)\n",
        "print(\"Fraction 1:\", f1)\n",
        "print(\"Fraction 2:\", f2)"
      ],
      "metadata": {
        "colab": {
          "base_uri": "https://localhost:8080/"
        },
        "id": "MwGdCWqwI-UO",
        "outputId": "7f501e85-8727-48aa-cbfe-42490a93df0f"
      },
      "execution_count": 14,
      "outputs": [
        {
          "output_type": "stream",
          "name": "stdout",
          "text": [
            "Fraction 1: 3/4\n",
            "Fraction 2: 1/2\n"
          ]
        }
      ]
    },
    {
      "cell_type": "markdown",
      "source": [
        "10. Demonstrate operator overloading by creating a class Vector and overriding the add method to add two\n",
        "vectors"
      ],
      "metadata": {
        "id": "7PEAoHjtB0K4"
      }
    },
    {
      "cell_type": "code",
      "source": [
        "class Vector:\n",
        "    def __init__(self, x, y):\n",
        "        self.x = x\n",
        "        self.y = y\n",
        "\n",
        "    def __add__(self, other):\n",
        "        x_new = self.x + other.x\n",
        "        y_new = self.y + other.y\n",
        "        result = Vector(x_new, y_new)\n",
        "        return result\n",
        "\n",
        "    def __str__(self):\n",
        "        return \"Vector(\" + str(self.x) + \", \" + str(self.y) + \")\"\n",
        "\n",
        "vector1 = Vector(2, 3)\n",
        "vector2 = Vector(4, 5)\n",
        "vector3 = vector1 + vector2\n",
        "print(str(vector1) + \" + \" + str(vector2) + \" = \" + str(vector3))"
      ],
      "metadata": {
        "colab": {
          "base_uri": "https://localhost:8080/"
        },
        "id": "n-Qs26L8JRg-",
        "outputId": "e45e7679-c4b3-4ac3-e38b-9c251e120390"
      },
      "execution_count": 15,
      "outputs": [
        {
          "output_type": "stream",
          "name": "stdout",
          "text": [
            "Vector(2, 3) + Vector(4, 5) = Vector(6, 8)\n"
          ]
        }
      ]
    },
    {
      "cell_type": "markdown",
      "source": [
        "11. Create a class Person with attributes name and age. Add a method greet() that prints \"Hello, my name is\n",
        "{name} and I am {age} years old.\""
      ],
      "metadata": {
        "id": "jrwKiRzOB0IW"
      }
    },
    {
      "cell_type": "code",
      "source": [
        "class Person:\n",
        "    def __init__(self, name, age):\n",
        "        self.name = name\n",
        "        self.age = age\n",
        "\n",
        "    def greet(self):\n",
        "        print(\"Hello, my name is \" + self.name + \" and I am \" + str(self.age) + \" years old.\")\n",
        "\n",
        "myself = Person(\"Arghadeep\", 24)\n",
        "myself.greet()"
      ],
      "metadata": {
        "colab": {
          "base_uri": "https://localhost:8080/"
        },
        "id": "m4EGV38_KnCA",
        "outputId": "71fbbae6-12cd-4ebe-d1cc-6e8733306c4e"
      },
      "execution_count": 16,
      "outputs": [
        {
          "output_type": "stream",
          "name": "stdout",
          "text": [
            "Hello, my name is Arghadeep and I am 24 years old.\n"
          ]
        }
      ]
    },
    {
      "cell_type": "markdown",
      "source": [
        "12. Implement a class Student with attributes name and grades. Create a method average_grade() to compute\n",
        "the average of the grades."
      ],
      "metadata": {
        "id": "AwzWcFUuBz22"
      }
    },
    {
      "cell_type": "code",
      "source": [
        "class Student:\n",
        "    def __init__(self, name, grades):\n",
        "        self.name = name\n",
        "        self.grades = grades\n",
        "\n",
        "    def average_grade(self):\n",
        "        total = 0\n",
        "        for grade in self.grades:\n",
        "            total = total + grade\n",
        "        if len(self.grades) > 0:\n",
        "            average = total / len(self.grades)\n",
        "            return average\n",
        "        else:\n",
        "            return 0\n",
        "\n",
        "stud = Student(\"Arghadeep\", [85, 90, 78, 92, 88])\n",
        "avg_grade = stud.average_grade()\n",
        "print(stud.name + \"'s average grade: \" + str(avg_grade))"
      ],
      "metadata": {
        "colab": {
          "base_uri": "https://localhost:8080/"
        },
        "id": "Ddi8gvGhKyma",
        "outputId": "0674b739-872d-41e6-ac56-ee8215b33842"
      },
      "execution_count": 17,
      "outputs": [
        {
          "output_type": "stream",
          "name": "stdout",
          "text": [
            "Arghadeep's average grade: 86.6\n"
          ]
        }
      ]
    },
    {
      "cell_type": "markdown",
      "source": [
        "13. Create a class Rectangle with methods set_dimensions() to set the dimensions and area() to calculate the\n",
        "area."
      ],
      "metadata": {
        "id": "jus8waToK-Gr"
      }
    },
    {
      "cell_type": "code",
      "source": [
        "class Rectangle:\n",
        "    def __init__(self):\n",
        "        self.length = 0\n",
        "        self.width = 0\n",
        "\n",
        "    def set_dimensions(self, l, w):\n",
        "        self.length = l\n",
        "        self.width = w\n",
        "\n",
        "    def area(self):\n",
        "        a = self.length * self.width\n",
        "        return a\n",
        "\n",
        "r = Rectangle()\n",
        "r.set_dimensions(10, 5)\n",
        "print(\"Rectangle area with length\", r.length, \"and width\", r.width, \"is:\", r.area())"
      ],
      "metadata": {
        "colab": {
          "base_uri": "https://localhost:8080/"
        },
        "id": "Awxm4iMDLcaH",
        "outputId": "afe373c5-4ae1-4dd3-bad9-98eb9d3b90b1"
      },
      "execution_count": 18,
      "outputs": [
        {
          "output_type": "stream",
          "name": "stdout",
          "text": [
            "Rectangle area with length 10 and width 5 is: 50\n"
          ]
        }
      ]
    },
    {
      "cell_type": "markdown",
      "source": [
        "14. Create a class Employee with a method calculate_salary() that computes the salary based on hours worked\n",
        "and hourly rate. Create a derived class Manager that adds a bonus to the salary."
      ],
      "metadata": {
        "id": "sY0YIKOGBz0W"
      }
    },
    {
      "cell_type": "code",
      "source": [
        "class Employee:\n",
        "    def __init__(self, hours, rate):\n",
        "        self.hours_worked = hours\n",
        "        self.hourly_rate = rate\n",
        "\n",
        "    def calculate_salary(self):\n",
        "        salary = self.hours_worked * self.hourly_rate\n",
        "        return salary\n",
        "\n",
        "class Manager(Employee):\n",
        "    def __init__(self, hours, rate, bonus):\n",
        "        super().__init__(hours, rate)\n",
        "        self.bonus = bonus\n",
        "\n",
        "    def calculate_salary(self):\n",
        "        basic = super().calculate_salary()\n",
        "        total = basic + self.bonus\n",
        "        return total\n",
        "\n",
        "e1 = Employee(40, 500)\n",
        "print(\"Employee salary: Rs.\", e1.calculate_salary())\n",
        "m1 = Manager(40, 800, 5000)\n",
        "print(\"Manager salary: Rs.\", m1.calculate_salary())"
      ],
      "metadata": {
        "colab": {
          "base_uri": "https://localhost:8080/"
        },
        "id": "rBstdNYoMC5S",
        "outputId": "84c053e7-36cc-41f6-980b-45f5ce7676d7"
      },
      "execution_count": 19,
      "outputs": [
        {
          "output_type": "stream",
          "name": "stdout",
          "text": [
            "Employee salary: Rs. 20000\n",
            "Manager salary: Rs. 37000\n"
          ]
        }
      ]
    },
    {
      "cell_type": "markdown",
      "source": [
        "15. Create a class Product with attributes name, price, and quantity. Implement a method total_price() that\n",
        "calculates the total price of the product."
      ],
      "metadata": {
        "id": "o-SO3iF9Bzqr"
      }
    },
    {
      "cell_type": "code",
      "source": [
        "class Product:\n",
        "    def __init__(self, name, price, qty):\n",
        "        self.name = name\n",
        "        self.price = price\n",
        "        self.quantity = qty\n",
        "\n",
        "    def total_price(self):\n",
        "        total = self.price * self.quantity\n",
        "        return total\n",
        "\n",
        "laptop = Product(\"Alienware Laptop\", 100000, 2)\n",
        "print(\"Total price for\", laptop.quantity, laptop.name + \"s: Rs.\", laptop.total_price())"
      ],
      "metadata": {
        "colab": {
          "base_uri": "https://localhost:8080/"
        },
        "id": "deqnGUfrMjFF",
        "outputId": "ea587c34-b3ce-4cd9-892d-3f826f22bcdd"
      },
      "execution_count": 21,
      "outputs": [
        {
          "output_type": "stream",
          "name": "stdout",
          "text": [
            "Total price for 2 Alienware Laptops: Rs. 200000\n"
          ]
        }
      ]
    },
    {
      "cell_type": "markdown",
      "source": [
        "16. Create a class Animal with an abstract method sound(). Create two derived classes Cow and Sheep that\n",
        "implement the sound() method."
      ],
      "metadata": {
        "id": "aio4bCR_Bznn"
      }
    },
    {
      "cell_type": "code",
      "source": [
        "from abc import ABC, abstractmethod\n",
        "\n",
        "class Animal(ABC):\n",
        "    @abstractmethod\n",
        "    def sound(self):\n",
        "        print(\"...\")\n",
        "\n",
        "class Cow(Animal):\n",
        "    def sound(self):\n",
        "        print(\"Moo\")\n",
        "\n",
        "class Sheep(Animal):\n",
        "    def sound(self):\n",
        "        print(\"Baa\")\n",
        "\n",
        "c1 = Cow()\n",
        "s1 = Sheep()\n",
        "print(\"Cow says:\", end=\" \")\n",
        "c1.sound()\n",
        "print(\"Sheep says:\", end=\" \")\n",
        "s1.sound()"
      ],
      "metadata": {
        "colab": {
          "base_uri": "https://localhost:8080/"
        },
        "id": "S5sWOt53NZy9",
        "outputId": "18993cef-34e9-4c29-948d-c9b082f2e3b0"
      },
      "execution_count": 23,
      "outputs": [
        {
          "output_type": "stream",
          "name": "stdout",
          "text": [
            "Cow says: Moo\n",
            "Sheep says: Baa\n"
          ]
        }
      ]
    },
    {
      "cell_type": "markdown",
      "source": [
        "17. Create a class Book with attributes title, author, and year_published. Add a method get_book_info() that\n",
        "returns a formatted string with the book's details."
      ],
      "metadata": {
        "id": "qR7-y-AsBzk7"
      }
    },
    {
      "cell_type": "code",
      "source": [
        "class Book:\n",
        "    def __init__(self, title, author, year):\n",
        "        self.title = title\n",
        "        self.author = author\n",
        "        self.year_published = year\n",
        "\n",
        "    def get_book_info(self):\n",
        "        info = \"'\" + self.title + \"' by \" + self.author + \" (\" + str(self.year_published) + \")\"\n",
        "        return info\n",
        "\n",
        "book1 = Book(\"The Dark Knight Returns\", \"Christopher Nolan\", 2012)\n",
        "book2 = Book(\"The Office\", \"Brian Baumgartner\", 2007)\n",
        "print(book1.get_book_info())\n",
        "print(book2.get_book_info())"
      ],
      "metadata": {
        "colab": {
          "base_uri": "https://localhost:8080/"
        },
        "id": "JSu9nN3tNx7Z",
        "outputId": "fb8e4493-4e19-4d62-bbb9-339e6cc66c1d"
      },
      "execution_count": 25,
      "outputs": [
        {
          "output_type": "stream",
          "name": "stdout",
          "text": [
            "'The Dark Knight Returns' by Christopher Nolan (2012)\n",
            "'The Office' by Brian Baumgartner (2007)\n"
          ]
        }
      ]
    },
    {
      "cell_type": "markdown",
      "source": [
        "18. Create a class House with attributes address and price. Create a derived class Mansion that adds an\n",
        "attribute number_of_rooms."
      ],
      "metadata": {
        "id": "Z5P8a9UaBzh4"
      }
    },
    {
      "cell_type": "code",
      "source": [
        "class House:\n",
        "    def __init__(self, addr, price):\n",
        "        self.address = addr\n",
        "        self.price = price\n",
        "\n",
        "class Mansion(House):\n",
        "    def __init__(self, addr, price, rooms):\n",
        "        super().__init__(addr, price)\n",
        "        self.number_of_rooms = rooms\n",
        "\n",
        "h1 = House(\"Park Street, Kolkata\", 5000000)\n",
        "m1 = Mansion(\"Alipore, Kolkata\", 50000000, 15)\n",
        "print(\"House at\", h1.address, \"costs Rs.\", h1.price)\n",
        "print(\"Mansion at\", m1.address, \"costs Rs.\", m1.price, \"and has\", m1.number_of_rooms, \"rooms\")"
      ],
      "metadata": {
        "colab": {
          "base_uri": "https://localhost:8080/"
        },
        "id": "VqiX8Tb8OXNN",
        "outputId": "21e2f504-640b-40f4-81ee-84e56ebc0828"
      },
      "execution_count": 26,
      "outputs": [
        {
          "output_type": "stream",
          "name": "stdout",
          "text": [
            "House at Park Street, Kolkata costs Rs. 5000000\n",
            "Mansion at Alipore, Kolkata costs Rs. 50000000 and has 15 rooms\n"
          ]
        }
      ]
    },
    {
      "cell_type": "markdown",
      "source": [
        "# **ARGHADEEP MISRA**"
      ],
      "metadata": {
        "id": "9UFG0kyiBzfP"
      }
    },
    {
      "cell_type": "markdown",
      "source": [
        "## ***+91 8250675419***"
      ],
      "metadata": {
        "id": "PBNPlSGcOsYn"
      }
    },
    {
      "cell_type": "markdown",
      "source": [
        "## arghadeepmisra@gmail.com"
      ],
      "metadata": {
        "id": "563cS3oNO2XS"
      }
    }
  ]
}