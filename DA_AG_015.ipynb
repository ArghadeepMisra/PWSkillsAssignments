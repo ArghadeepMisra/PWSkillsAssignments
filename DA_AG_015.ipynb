{
  "nbformat": 4,
  "nbformat_minor": 0,
  "metadata": {
    "colab": {
      "provenance": []
    },
    "kernelspec": {
      "name": "python3",
      "display_name": "Python 3"
    },
    "language_info": {
      "name": "python"
    }
  },
  "cells": [
    {
      "cell_type": "markdown",
      "source": [
        "# Boosting Techniques | Assignment"
      ],
      "metadata": {
        "id": "k_OgBQUwxVQ6"
      }
    },
    {
      "cell_type": "markdown",
      "source": [
        "Assignment Code: DA-AG-015"
      ],
      "metadata": {
        "id": "NYcvCHUuxWjD"
      }
    },
    {
      "cell_type": "markdown",
      "source": [
        "Arghadeep Misra |\n",
        "+91 8250675419"
      ],
      "metadata": {
        "id": "7WGQoZm7xb2c"
      }
    },
    {
      "cell_type": "markdown",
      "source": [
        "---"
      ],
      "metadata": {
        "id": "CyBLqlZ_0cEA"
      }
    },
    {
      "cell_type": "markdown",
      "source": [
        "Question 1: What is Boosting in Machine Learning? Explain how it improves weak learners."
      ],
      "metadata": {
        "id": "b0Kq_0D0xjAL"
      }
    },
    {
      "cell_type": "markdown",
      "source": [
        "Answer -\n",
        "\n",
        "\n",
        "Boosting is an ensemble method. It combines many weak learners to make one strong learner. A weak learner is a model that does only a little better than random guessing. Boosting trains models one after another. Each new model focuses more on the mistakes of the previous ones.\n",
        "\n",
        "For example, in AdaBoost the algorithm increases the weight of wrong predictions so the next learner tries harder on them. In Gradient Boosting, each new learner is fitted on the errors left over from the earlier ones. At the end, all the learners are combined, often by weighted voting or adding their outputs.\n",
        "\n",
        "This step-by-step correction makes the final model more accurate than any single weak learner."
      ],
      "metadata": {
        "id": "WTwvPRBPxodx"
      }
    },
    {
      "cell_type": "markdown",
      "source": [
        "---"
      ],
      "metadata": {
        "id": "RSmeKwiD0cwj"
      }
    },
    {
      "cell_type": "markdown",
      "source": [
        "Question 2: What is the difference between AdaBoost and Gradient Boosting in terms of how models are trained?"
      ],
      "metadata": {
        "id": "F7-7yfBexx5h"
      }
    },
    {
      "cell_type": "markdown",
      "source": [
        "Answer -\n",
        "\n",
        "\n",
        "AdaBoost and Gradient Boosting are both boosting methods, but they train models in different ways.\n",
        "\n",
        "AdaBoost works by giving higher weights to the data points that were classified wrong by the previous model. The next weak learner focuses more on those hard cases. At the end, it combines all weak learners with weights based on their accuracy.\n",
        "\n",
        "Gradient Boosting does not use weights in the same way. Instead, it builds each new model on the residual errors of the previous models. The idea is that each new learner predicts the part the old ones missed. It uses gradient descent to reduce the loss function step by step.\n",
        "\n",
        "In short: AdaBoost adjusts weights of samples, Gradient Boosting reduces errors using gradients."
      ],
      "metadata": {
        "id": "z714J3SXx4JI"
      }
    },
    {
      "cell_type": "markdown",
      "source": [
        "---"
      ],
      "metadata": {
        "id": "JRxH606Z0bMu"
      }
    },
    {
      "cell_type": "markdown",
      "source": [
        "Question 3 - How does regularization help in XGBoost?"
      ],
      "metadata": {
        "id": "3BQFcX6UyE4p"
      }
    },
    {
      "cell_type": "markdown",
      "source": [
        "Answer -\n",
        "\n",
        "Regularization in XGBoost helps control overfitting. Overfitting happens when the model learns noise from training data instead of real patterns.\n",
        "\n",
        "XGBoost adds penalty terms to its objective function. These penalties control the complexity of trees. The L1 penalty (like Lasso) can make some weights zero, removing unnecessary features. The L2 penalty (like Ridge) reduces the size of weights, making the model more stable.\n",
        "\n",
        "By using these penalties, the model becomes simpler, more general, and performs better on new unseen data."
      ],
      "metadata": {
        "id": "hAlDlsoMyF5L"
      }
    },
    {
      "cell_type": "markdown",
      "source": [
        "---"
      ],
      "metadata": {
        "id": "rhoYNfLB0aTz"
      }
    },
    {
      "cell_type": "markdown",
      "source": [
        "Question 4 - Why is CatBoost considered efficient for handling categorical data?"
      ],
      "metadata": {
        "id": "Jm_A-IR1yIfx"
      }
    },
    {
      "cell_type": "markdown",
      "source": [
        "Answer -\n",
        "\n",
        "CatBoost is designed to work well with categorical features. Normally, models need categorical values to be converted into numbers using one-hot encoding or label encoding. These methods can make the dataset very large or add noise.\n",
        "\n",
        "CatBoost avoids this by using a special technique called target-based encoding with random permutations. It turns categories into numerical values while reducing the risk of overfitting. It also handles high-cardinality features, where there are many unique categories, without making the dataset explode in size.\n",
        "\n",
        "Because of this built-in method, CatBoost saves preprocessing time and improves performance when data has many categorical variables."
      ],
      "metadata": {
        "id": "KBCV_D3kyMHQ"
      }
    },
    {
      "cell_type": "markdown",
      "source": [
        "---"
      ],
      "metadata": {
        "id": "yJkeUVH40Zur"
      }
    },
    {
      "cell_type": "markdown",
      "source": [
        "Question 5 - What are some real-world applications where boosting techniques are preferred over bagging methods?"
      ],
      "metadata": {
        "id": "vOppdUPZyPWw"
      }
    },
    {
      "cell_type": "markdown",
      "source": [
        "Answer -\n",
        "\n",
        "Boosting is often better than bagging when small improvements in accuracy are important.\n",
        "\n",
        "Finance - Boosting models are used to detect fraud in credit card transactions where small errors can cost a lot.\n",
        "\n",
        "Healthcare - Boosting is applied in predicting diseases from medical records. The step-by-step corrections improve sensitivity.\n",
        "\n",
        "Marketing - Companies use boosting to predict customer churn and buying behavior more accurately.\n",
        "\n",
        "Online platforms - Boosting helps in ranking search results and recommending products.\n",
        "\n",
        "Risk management - Banks use boosting to assess loan default chances with better precision.\n",
        "\n",
        "In these areas, boosting is preferred because it reduces bias and catches complex patterns that bagging sometimes misses."
      ],
      "metadata": {
        "id": "6ys1XJ44ySc7"
      }
    },
    {
      "cell_type": "markdown",
      "source": [
        "---"
      ],
      "metadata": {
        "id": "42RVXGG80Y6c"
      }
    },
    {
      "cell_type": "markdown",
      "source": [
        "Question 6 - Write a Python program to train an AdaBoost Classifier on the Breast Cancer dataset and print the model accuracy."
      ],
      "metadata": {
        "id": "iih4ccudyXA4"
      }
    },
    {
      "cell_type": "code",
      "source": [
        "from sklearn.datasets import load_breast_cancer\n",
        "from sklearn.model_selection import train_test_split\n",
        "from sklearn.ensemble import AdaBoostClassifier\n",
        "from sklearn.metrics import accuracy_score\n",
        "\n",
        "data = load_breast_cancer()\n",
        "X = data.data\n",
        "y = data.target\n",
        "\n",
        "X_train, X_test, y_train, y_test = train_test_split(X, y, test_size=0.2, random_state=42)\n",
        "\n",
        "model = AdaBoostClassifier(random_state=42)\n",
        "model.fit(X_train, y_train)\n",
        "y_pred = model.predict(X_test)\n",
        "\n",
        "print(\"Accuracy:\", accuracy_score(y_test, y_pred))\n",
        "\n"
      ],
      "metadata": {
        "colab": {
          "base_uri": "https://localhost:8080/"
        },
        "id": "VFUiAVBRyZ_Y",
        "outputId": "fae8ce3c-7e2d-49f0-8972-03923fd13066"
      },
      "execution_count": 1,
      "outputs": [
        {
          "output_type": "stream",
          "name": "stdout",
          "text": [
            "Accuracy: 0.9649122807017544\n"
          ]
        }
      ]
    },
    {
      "cell_type": "markdown",
      "source": [
        "---"
      ],
      "metadata": {
        "id": "599jMCxA0Xzv"
      }
    },
    {
      "cell_type": "markdown",
      "source": [
        "Question 7 - Write a Python program to train a Gradient Boosting Regressor on the California Housing dataset and evaluate performance using R-squared score."
      ],
      "metadata": {
        "id": "Amtd5eeZyfAk"
      }
    },
    {
      "cell_type": "code",
      "source": [
        "from sklearn.datasets import fetch_california_housing\n",
        "from sklearn.model_selection import train_test_split\n",
        "from sklearn.ensemble import GradientBoostingRegressor\n",
        "from sklearn.metrics import r2_score\n",
        "\n",
        "data = fetch_california_housing()\n",
        "X = data.data\n",
        "y = data.target\n",
        "\n",
        "X_train, X_test, y_train, y_test = train_test_split(X, y, test_size=0.2, random_state=42)\n",
        "\n",
        "reg_model = GradientBoostingRegressor(random_state=42)\n",
        "reg_model.fit(X_train, y_train)\n",
        "y_pred = reg_model.predict(X_test)\n",
        "\n",
        "print(\"R-squared:\", r2_score(y_test, y_pred))\n"
      ],
      "metadata": {
        "colab": {
          "base_uri": "https://localhost:8080/"
        },
        "id": "D4acNHwlykH3",
        "outputId": "85e0a916-d3a1-4929-f7b6-a6d338b8f807"
      },
      "execution_count": 2,
      "outputs": [
        {
          "output_type": "stream",
          "name": "stdout",
          "text": [
            "R-squared: 0.7756446042829697\n"
          ]
        }
      ]
    },
    {
      "cell_type": "markdown",
      "source": [
        "---"
      ],
      "metadata": {
        "id": "gCh8ZTLs0XK6"
      }
    },
    {
      "cell_type": "markdown",
      "source": [
        "Question 8 - Write a Python program to train an XGBoost Classifier on the Breast Cancer dataset, tune the learning rate using GridSearchCV, and print the best parameters and accuracy."
      ],
      "metadata": {
        "id": "gDce0iRbyhOd"
      }
    },
    {
      "cell_type": "code",
      "source": [
        "from sklearn.datasets import load_breast_cancer\n",
        "from sklearn.model_selection import train_test_split, GridSearchCV\n",
        "from sklearn.metrics import accuracy_score\n",
        "from xgboost import XGBClassifier\n",
        "import warnings\n",
        "\n",
        "warnings.filterwarnings(\"ignore\")\n",
        "data = load_breast_cancer()\n",
        "X = data.data\n",
        "y = data.target\n",
        "\n",
        "X_train, X_test, y_train, y_test = train_test_split(X, y, test_size=0.2, random_state=42)\n",
        "\n",
        "model = XGBClassifier(use_label_encoder=False, eval_metric='logloss', random_state=42)\n",
        "\n",
        "param_grid = {'learning_rate': [0.01, 0.05, 0.1, 0.2]}\n",
        "grid = GridSearchCV(model, param_grid, cv=3, scoring='accuracy')\n",
        "grid.fit(X_train, y_train)\n",
        "\n",
        "best_model = grid.best_estimator_\n",
        "y_pred = best_model.predict(X_test)\n",
        "\n",
        "print(\"Best Params:\", grid.best_params_)\n",
        "print(\"Accuracy:\", accuracy_score(y_test, y_pred))\n"
      ],
      "metadata": {
        "colab": {
          "base_uri": "https://localhost:8080/"
        },
        "id": "XKqRNGizytmF",
        "outputId": "ab69455e-b2f8-4e20-8c25-e352bb646083"
      },
      "execution_count": 4,
      "outputs": [
        {
          "output_type": "stream",
          "name": "stdout",
          "text": [
            "Best Params: {'learning_rate': 0.1}\n",
            "Accuracy: 0.956140350877193\n"
          ]
        }
      ]
    },
    {
      "cell_type": "markdown",
      "source": [
        "---"
      ],
      "metadata": {
        "id": "ZTDx5noO0WaZ"
      }
    },
    {
      "cell_type": "markdown",
      "source": [
        "Question 9 - Write a Python program to train a CatBoost Classifier and plot the confusion matrix using seaborn."
      ],
      "metadata": {
        "id": "pBJ5Nw2wzJEJ"
      }
    },
    {
      "cell_type": "code",
      "source": [
        "!pip install catboost"
      ],
      "metadata": {
        "colab": {
          "base_uri": "https://localhost:8080/"
        },
        "id": "-Dtc9e7XzupF",
        "outputId": "5673754c-3a6e-4900-bd5e-cc41cc55ea3f"
      },
      "execution_count": 7,
      "outputs": [
        {
          "output_type": "stream",
          "name": "stdout",
          "text": [
            "Collecting catboost\n",
            "  Downloading catboost-1.2.8-cp312-cp312-manylinux2014_x86_64.whl.metadata (1.2 kB)\n",
            "Requirement already satisfied: graphviz in /usr/local/lib/python3.12/dist-packages (from catboost) (0.21)\n",
            "Requirement already satisfied: matplotlib in /usr/local/lib/python3.12/dist-packages (from catboost) (3.10.0)\n",
            "Requirement already satisfied: numpy<3.0,>=1.16.0 in /usr/local/lib/python3.12/dist-packages (from catboost) (2.0.2)\n",
            "Requirement already satisfied: pandas>=0.24 in /usr/local/lib/python3.12/dist-packages (from catboost) (2.2.2)\n",
            "Requirement already satisfied: scipy in /usr/local/lib/python3.12/dist-packages (from catboost) (1.16.1)\n",
            "Requirement already satisfied: plotly in /usr/local/lib/python3.12/dist-packages (from catboost) (5.24.1)\n",
            "Requirement already satisfied: six in /usr/local/lib/python3.12/dist-packages (from catboost) (1.17.0)\n",
            "Requirement already satisfied: python-dateutil>=2.8.2 in /usr/local/lib/python3.12/dist-packages (from pandas>=0.24->catboost) (2.9.0.post0)\n",
            "Requirement already satisfied: pytz>=2020.1 in /usr/local/lib/python3.12/dist-packages (from pandas>=0.24->catboost) (2025.2)\n",
            "Requirement already satisfied: tzdata>=2022.7 in /usr/local/lib/python3.12/dist-packages (from pandas>=0.24->catboost) (2025.2)\n",
            "Requirement already satisfied: contourpy>=1.0.1 in /usr/local/lib/python3.12/dist-packages (from matplotlib->catboost) (1.3.3)\n",
            "Requirement already satisfied: cycler>=0.10 in /usr/local/lib/python3.12/dist-packages (from matplotlib->catboost) (0.12.1)\n",
            "Requirement already satisfied: fonttools>=4.22.0 in /usr/local/lib/python3.12/dist-packages (from matplotlib->catboost) (4.59.1)\n",
            "Requirement already satisfied: kiwisolver>=1.3.1 in /usr/local/lib/python3.12/dist-packages (from matplotlib->catboost) (1.4.9)\n",
            "Requirement already satisfied: packaging>=20.0 in /usr/local/lib/python3.12/dist-packages (from matplotlib->catboost) (25.0)\n",
            "Requirement already satisfied: pillow>=8 in /usr/local/lib/python3.12/dist-packages (from matplotlib->catboost) (11.3.0)\n",
            "Requirement already satisfied: pyparsing>=2.3.1 in /usr/local/lib/python3.12/dist-packages (from matplotlib->catboost) (3.2.3)\n",
            "Requirement already satisfied: tenacity>=6.2.0 in /usr/local/lib/python3.12/dist-packages (from plotly->catboost) (8.5.0)\n",
            "Downloading catboost-1.2.8-cp312-cp312-manylinux2014_x86_64.whl (99.2 MB)\n",
            "\u001b[2K   \u001b[90m━━━━━━━━━━━━━━━━━━━━━━━━━━━━━━━━━━━━━━━━\u001b[0m \u001b[32m99.2/99.2 MB\u001b[0m \u001b[31m10.7 MB/s\u001b[0m eta \u001b[36m0:00:00\u001b[0m\n",
            "\u001b[?25hInstalling collected packages: catboost\n",
            "Successfully installed catboost-1.2.8\n"
          ]
        }
      ]
    },
    {
      "cell_type": "code",
      "source": [
        "from sklearn.datasets import load_breast_cancer\n",
        "from sklearn.model_selection import train_test_split\n",
        "from sklearn.metrics import confusion_matrix\n",
        "from catboost import CatBoostClassifier\n",
        "import seaborn as sns\n",
        "import matplotlib.pyplot as plt\n",
        "\n",
        "data = load_breast_cancer()\n",
        "X = data.data\n",
        "y = data.target\n",
        "\n",
        "X_train, X_test, y_train, y_test = train_test_split(X, y, test_size=0.2, random_state=42)\n",
        "\n",
        "model = CatBoostClassifier(verbose=0, random_state=42)\n",
        "model.fit(X_train, y_train)\n",
        "y_pred = model.predict(X_test)\n",
        "\n",
        "cm = confusion_matrix(y_test, y_pred)\n",
        "\n",
        "sns.heatmap(cm, annot=True, fmt=\"d\", cmap=\"Blues\")\n",
        "plt.xlabel(\"Predicted\")\n",
        "plt.ylabel(\"Actual\")\n",
        "plt.show()\n"
      ],
      "metadata": {
        "colab": {
          "base_uri": "https://localhost:8080/",
          "height": 455
        },
        "id": "fl4X9r_LzLs1",
        "outputId": "e7fd2bf0-17d8-4c79-91b6-076be78eae98"
      },
      "execution_count": 8,
      "outputs": [
        {
          "output_type": "display_data",
          "data": {
            "text/plain": [
              "<Figure size 640x480 with 2 Axes>"
            ],
            "image/png": "[encoded data removed]"
          },
          "metadata": {}
        }
      ]
    },
    {
      "cell_type": "markdown",
      "source": [
        "---"
      ],
      "metadata": {
        "id": "0yCpoj2P0TbT"
      }
    },
    {
      "cell_type": "markdown",
      "source": [
        "Question 10 - You're working for a FinTech company trying to predict loan default using customer demographics and transaction behavior. The dataset is imbalanced, has missing values, and includes both numeric and categorical features. Describe your step-by-step data science pipeline using boosting techniques."
      ],
      "metadata": {
        "id": "Tz4bina_0Cg3"
      }
    },
    {
      "cell_type": "markdown",
      "source": [
        "Answer -\n",
        "\n",
        "\n",
        "1/ Data preprocessing\n",
        "\n",
        "2/ Handle missing values: use mean/median for numeric columns, most frequent for categorical.\n",
        "\n",
        "3/ Encode categorical features: CatBoost can handle them directly, while XGBoost/AdaBoost need one-hot or label encoding.\n",
        "\n",
        "4/ Scale numeric values if needed, but boosting models usually work fine without scaling.\n",
        "\n",
        "5/ Model choice\n",
        "\n",
        "6/ CatBoost is a strong option because it handles categorical data well.\n",
        "\n",
        "7/ If the dataset has many numeric features and fewer categories, XGBoost is also a good choice.\n",
        "\n",
        "8/ AdaBoost is simpler, but less powerful for large complex datasets.\n",
        "\n",
        "9/ Hyperparameter tuning\n",
        "\n",
        "10/ Use GridSearchCV or RandomizedSearchCV.\n",
        "\n",
        "11/ Tune learning_rate, max_depth, n_estimators.\n",
        "\n",
        "12/ Use cross-validation to avoid overfitting.\n",
        "\n",
        "13/ Evaluation metrics\n",
        "\n",
        "14/ Since the dataset is imbalanced, accuracy is not enough.\n",
        "\n",
        "15/ Use metrics like F1-score, Precision, Recall, and especially AUC-ROC to judge performance.\n",
        "\n",
        "=> Business benefit\n",
        "\n",
        "=> The model helps the company reduce risk by identifying high default probability customers early.\n",
        "\n",
        "=> This allows smarter loan approvals, better credit scoring, and lower financial losses.\n",
        "\n",
        "=> It also helps in offering safer products to reliable customers."
      ],
      "metadata": {
        "id": "K-fcG2m_0D62"
      }
    }
  ]
}