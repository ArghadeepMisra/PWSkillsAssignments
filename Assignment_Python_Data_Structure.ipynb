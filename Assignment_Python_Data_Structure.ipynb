{
  "nbformat": 4,
  "nbformat_minor": 0,
  "metadata": {
    "colab": {
      "provenance": []
    },
    "kernelspec": {
      "name": "python3",
      "display_name": "Python 3"
    },
    "language_info": {
      "name": "python"
    }
  },
  "cells": [
    {
      "cell_type": "markdown",
      "source": [
        "#**Assignment : Python - Data Structure**"
      ],
      "metadata": {
        "id": "tIRfZ5Qy0Seo"
      }
    },
    {
      "cell_type": "markdown",
      "source": [
        "#Theoretical Question - Answers"
      ],
      "metadata": {
        "id": "IUhWhtk50Ixu"
      }
    },
    {
      "cell_type": "markdown",
      "source": [
        "**1. What are data structures, and why are they important?**\n",
        "\n",
        "- Data Structures are a way to store data in a proper manner, often efficiently.\n",
        "- They are important due to being the building block of programs and holding the structure of the base of the data in a fashion that is easily retrivable.\n",
        "\n",
        "Example - Without data structures there is would be a lot more unwanted complexity in the program that would cause heavy reliability issue.  "
      ],
      "metadata": {
        "id": "4KTb6wMEpmid"
      }
    },
    {
      "cell_type": "markdown",
      "source": [
        "**2. Explain the difference between mutable and immutable data types with examples**\n",
        "\n",
        "Python allocates an Object ID for each Data Types, which it keeps track from the start to the end of the program often.  \n",
        "- Mutable Data Types - Are those which doesn't change the Object ID while getting modified. Which means there is only one pointer to the parent data.\n",
        "- Immutable Data Type - These data types aquire new object id (aka storage location) while getting modified [if they allow modification in the first place]. Which creates a new pointer to a new data type.\n",
        "\n",
        "Example - list is mutable (Adding / Removing any element causes changes in the parent data structure itself), String is immutable (Adding / Removing any element don't cause change in the parent data, it creates another object and implements the addition there.)"
      ],
      "metadata": {
        "id": "uOG7s8UZr2ZY"
      }
    },
    {
      "cell_type": "markdown",
      "source": [
        "**3. What are the main differences between lists and tuples in Python ?**\n",
        "\n",
        "- Lists  \n",
        "1. Mutable\n",
        "2. Methods can be used - append / remove and much more\n",
        "3. Syntax is - []\n",
        "4. Slower\n",
        "\n",
        "- Tuples\n",
        "1. Immutable\n",
        "2. Methods can be used - only count / index\n",
        "3. Syntax is ()\n",
        "4. Faster"
      ],
      "metadata": {
        "id": "deoHiXkztvFV"
      }
    },
    {
      "cell_type": "markdown",
      "source": [
        "**4.  Describe how dictionaries store data ?**\n",
        "\n",
        "- Dictionaries store data in Key-Value pairs. Which means - There is One Key that is linked to a value. And the value can be accessed only when you have the key and nothing else. Often this has to be unique to save from clutter. Although same key generetaion can cause to change the data in the declaration itself.\n",
        "\n",
        "Example - my_Dict = {\"name\":\"Argha\", \"course\":\"DS\"}\n",
        "\n",
        "in this dictionary - my_Dict > Keys -> name & course, Values -> Argha & DS"
      ],
      "metadata": {
        "id": "9tV5paVsvfxY"
      }
    },
    {
      "cell_type": "markdown",
      "source": [
        "**5. Why might you use a set instead of a list in Python ?**\n",
        "\n",
        "1. Sets offer redundant values where lists don't\n",
        "2. Sets are Hashable where Lists are not\n",
        "3. Sets offer fuctions like Union & Intersection\n",
        "4. Very efficient to store uniqe large amount of data in both Storage and Computtation"
      ],
      "metadata": {
        "id": "1MWO8qO-waNW"
      }
    },
    {
      "cell_type": "markdown",
      "source": [
        "**6. What is a string in Python, and how is it different from a list**\n",
        "\n",
        "- String in Python are a Sequence of Unicode Characters stored in a variable often, that are immutable in nature.\n",
        "\n",
        "- Differences are 1)Strings are Immutable 2) They hold only texts (Uncalculable) 3) Text operations are applicable like slicing and dicing 4) The syntax is different too - str = \"Argha\"  "
      ],
      "metadata": {
        "id": "z1FEdrBrFzmK"
      }
    },
    {
      "cell_type": "markdown",
      "source": [
        "**7. How do tuples ensure data integrity in Python**\n",
        "- Tuples ensure data mutability in Python because of their immutable nature.\n",
        "\n",
        "Example - Whenever the data in tuples needed to modify it will throw an error to stop the process maintaining a secure and redundant data authority in the program."
      ],
      "metadata": {
        "id": "pAGgN9NhljzB"
      }
    },
    {
      "cell_type": "markdown",
      "source": [
        "**8. What is a hash table, and how does it relate to dictionaries in Python ?**\n",
        "- Hash table is one of a data structure that is used to retrive data in a constant time. Which is extremely fast for the most cases. Hash table uses Key-Value pairs to store the data, where each key is unique and redundant mostly. The key in the hash table is converted to a specific index that can be read by the program in constant time.\n",
        "\n",
        "- In python, when you create a dictionary it almost acts like a hash table where Python stores the key values using a Hash function in the memory, offering constant time to access the data. It is already inbuilt in the Python, thus there is very less work to do to create hash table."
      ],
      "metadata": {
        "id": "q22hT0P5mPrX"
      }
    },
    {
      "cell_type": "markdown",
      "source": [
        "**9.Can lists contain different data types in Python**\n",
        "- Yes, lists can contain different types of data in the data structure. Even if they are duplicates too."
      ],
      "metadata": {
        "id": "owCdI6Y9nUBo"
      }
    },
    {
      "cell_type": "markdown",
      "source": [
        "**10. Explain why strings are immutable in Python**\n",
        "- There are several reasons why strings are immutable in python, below I am going to explain three of them\n",
        "\n",
        "1. Python is multi-thread heavy programming language. Be it CUDA or any kind of Scaling Algorithm, it uses a lot of threads to run a single code. Making string immutable offers a great advantage to data safety.\n",
        "\n",
        "2. Strings can be used as a key in hash table, which by all means get converted into storage indexes by hash function. Newly modified string could bring crataostophic changes to the system if done so. Thus it is immutable.\n",
        "\n",
        "3. Python uses same memory for different strings to save memory, thus making it fundamentally not only immutable but reusable that on the large scope of programming can save some memory."
      ],
      "metadata": {
        "id": "T2-AYfg5nj5p"
      }
    },
    {
      "cell_type": "markdown",
      "source": [
        "**11.What advantages do dictionaries offer over lists for certain tasks**\n",
        "- There are various reasons where dictionaries have much better advantages over lists in specific scenarios. Like\n",
        "\n",
        "1. Constant Time data access (Usable for large amount of data)\n",
        "2. Index Less and Key Base searches (Better management of the data)\n",
        "3. Redundancy (No Duplicate data)"
      ],
      "metadata": {
        "id": "ip2ATH-ro64h"
      }
    },
    {
      "cell_type": "markdown",
      "source": [
        "**12. Describe a scenario where using a tuple would be preferable over a list ?**\n",
        "\n",
        "Tuples can be favourable in many instances where lists are not that adequete. Below I am mentioning three of the usecases.\n",
        "\n",
        "1. Returning Scientific Data (Like Cordinates, Constants) where the numbers are fixed and declared a sensible meaning to those\n",
        "2. Using in Hash Tables or Dictionaries since the immutibility\n",
        "3. Wherever more memory efficient and faster computation is required.  "
      ],
      "metadata": {
        "id": "TM7iTZBspmbl"
      }
    },
    {
      "cell_type": "markdown",
      "source": [
        "**13. How do sets handle duplicate values in Python ?**\n",
        "- There is a data structure in python , that inherently removes the Duplicate values offering redundency.\n",
        "\n",
        "The name of the data structure is set(). And it works like a mathametical model of set."
      ],
      "metadata": {
        "id": "NJsjoKo3qZpA"
      }
    },
    {
      "cell_type": "markdown",
      "source": [
        "**14. How does the “in” keyword work differently for lists and dictionaries**\n",
        "- The in keyword works a bit differently in both list and dictionaries\n",
        "\n",
        "In List > The interpreter checks if there is any matching element in the list one by one\n",
        "\n",
        "In Dictionaries > The interpreter checks if there is any matching key. Which means there is no value that can be used in the dictionaries, it always has to be a key-justifiable value."
      ],
      "metadata": {
        "id": "vpr8h439pAov"
      }
    },
    {
      "cell_type": "markdown",
      "source": [
        "**15. Can you modify the elements of a tuple? Explain why or why not ?**\n",
        "\n",
        "- No, we can't modify the data of a tuple.\n",
        "\n",
        "Because tuple is a immutable object and if we try to change/modify the elements it would throw an error that will eliminate the runtime of the programme."
      ],
      "metadata": {
        "id": "qNoQH90Yryqq"
      }
    },
    {
      "cell_type": "markdown",
      "source": [
        "**16. What is a nested dictionary, and give an example of its use case ?**\n",
        "\n",
        "- A nested dictionary is a dictionary inside a dictionary that is very useful to create a hiararchial dataset.\n",
        "\n",
        "Example - 1. Storing multiple data with sub-data 2. Groupped configuration file\n",
        ""
      ],
      "metadata": {
        "id": "CtVfZ-3esKJC"
      }
    },
    {
      "cell_type": "markdown",
      "source": [
        "**17.Describe the time complexity of accessing elements in a dictionary ?**\n",
        "- Dictionary in python uses a hash function to store the key data in the memory. Thus the dictionary uses a constant amount of time to fetch the data. Because Dictionaries act like a Hash Table in this scenario.\n",
        "\n",
        "So the complexity of the hash table being O(1) [Big O of 1]\n",
        "the compexity of Dictionary is also same, constant."
      ],
      "metadata": {
        "id": "Wy4sC8_NwkqG"
      }
    },
    {
      "cell_type": "markdown",
      "source": [
        "**18. In what situations are lists preferred over dictionaries ?**\n",
        "- There are situations where the lists are more preferable than the dictionaries. I discussed three of them below\n",
        "\n",
        "1. When you want duplicated in the data and redundany doesn't matter much.\n",
        "2. When the insertion order matters (In data-structures like stacks and queues)\n",
        "3. When you need the indexed access to the data."
      ],
      "metadata": {
        "id": "zCMj6k2fxGbJ"
      }
    },
    {
      "cell_type": "markdown",
      "source": [
        "**19.  Why are dictionaries considered unordered, and how does that affect data retrieval**\n",
        "\n",
        "- Dictionaries are un-odered for several reasons\n",
        "1. The data fetching is done through keys, so there is no need to be order to store the data\n",
        "2. The data is not indexed, so you can't access data by providing a value in the index section\n",
        "3. Dictionaries are used as a Hash Table , thus the hash fuction will perform anyhow, making the order an extra work head to do nothing.\n",
        "\n",
        "-It affects data retrival by maintaining a constant time\n",
        "\n",
        "If we take lists for example, as the data increases the time complexity to find a data also increases. But in Dictionaries it takes same time to fetch each data in the programme."
      ],
      "metadata": {
        "id": "AsodLtVOx5DK"
      }
    },
    {
      "cell_type": "markdown",
      "source": [
        "**20. Explain the difference between a list and a dictionary in terms of data retrieval.**\n",
        "\n",
        "- Lists\n",
        "1. Lists store the data in a odered position\n",
        "2. The data can be accessed by giving the index\n",
        "3. The time complexity increases with the space\n",
        "\n",
        "- Dictionaries\n",
        "1. Dictionaries store the data in an unodered position\n",
        "2. Only by providing the key of the value can grant you the data\n",
        "3. The time complexity stays the same even if the space grows, due to hashing funtions."
      ],
      "metadata": {
        "id": "d_gSgsxfzFf5"
      }
    },
    {
      "cell_type": "markdown",
      "source": [
        "#Practical Question - Answers"
      ],
      "metadata": {
        "id": "HpU0zJ5G0Gtc"
      }
    },
    {
      "cell_type": "markdown",
      "source": [
        "1. Write a code to create a string with your name and print it"
      ],
      "metadata": {
        "id": "Exh37ZN10kt8"
      }
    },
    {
      "cell_type": "code",
      "source": [
        "name = \"Argha\"\n",
        "print(name)"
      ],
      "metadata": {
        "colab": {
          "base_uri": "https://localhost:8080/"
        },
        "id": "km-BXYp-Czgn",
        "outputId": "755f1e03-f7ff-455f-c79a-8a6ad961f8a4"
      },
      "execution_count": 1,
      "outputs": [
        {
          "output_type": "stream",
          "name": "stdout",
          "text": [
            "Argha\n"
          ]
        }
      ]
    },
    {
      "cell_type": "markdown",
      "source": [
        "2. Write a code to find the length of the string \"Hello World\""
      ],
      "metadata": {
        "id": "AmWR1-loDDN9"
      }
    },
    {
      "cell_type": "code",
      "source": [
        "hlo = \"Hello World\"\n",
        "print(len(hlo))"
      ],
      "metadata": {
        "colab": {
          "base_uri": "https://localhost:8080/"
        },
        "id": "sVlfdwi6DH39",
        "outputId": "c88ef84b-b050-4bb5-fe64-8817f66cc294"
      },
      "execution_count": 2,
      "outputs": [
        {
          "output_type": "stream",
          "name": "stdout",
          "text": [
            "11\n"
          ]
        }
      ]
    },
    {
      "cell_type": "markdown",
      "source": [
        "3. Write a code to slice the first 3 characters from the string \"Python Programming\""
      ],
      "metadata": {
        "id": "gPJv3OqLDQ5_"
      }
    },
    {
      "cell_type": "code",
      "source": [
        "pyt = \"Python Programming\"\n",
        "slc = pyt[0:3]\n",
        "print(slc)"
      ],
      "metadata": {
        "colab": {
          "base_uri": "https://localhost:8080/"
        },
        "id": "8N1pNoKlDU8K",
        "outputId": "5b538619-0105-4c72-e8f5-08366f637430"
      },
      "execution_count": 4,
      "outputs": [
        {
          "output_type": "stream",
          "name": "stdout",
          "text": [
            "Pyt\n"
          ]
        }
      ]
    },
    {
      "cell_type": "markdown",
      "source": [
        "4. Write a code to convert the string \"hello\" to uppercase"
      ],
      "metadata": {
        "id": "cECrLgSiHKzX"
      }
    },
    {
      "cell_type": "code",
      "source": [
        "hlo = \"hello\"\n",
        "hlou = hlo.upper()\n",
        "print(hlou)"
      ],
      "metadata": {
        "colab": {
          "base_uri": "https://localhost:8080/"
        },
        "id": "VNitK9AEHN2n",
        "outputId": "05d526d0-347a-4340-ef28-51b5a60626b0"
      },
      "execution_count": 5,
      "outputs": [
        {
          "output_type": "stream",
          "name": "stdout",
          "text": [
            "HELLO\n"
          ]
        }
      ]
    },
    {
      "cell_type": "markdown",
      "source": [
        "5. Write a code to replace the word \"apple\" with \"orange\" in the string \"I like apple\""
      ],
      "metadata": {
        "id": "xoHeIktfIZhD"
      }
    },
    {
      "cell_type": "code",
      "source": [
        "apl = \"I like apple\"\n",
        "ong = apl.replace(\"apple\", \"orange\")\n",
        "print(ong)"
      ],
      "metadata": {
        "colab": {
          "base_uri": "https://localhost:8080/"
        },
        "id": "s1EqPSYbIdqL",
        "outputId": "65628b9d-07f2-4241-8746-0075639a20fc"
      },
      "execution_count": 6,
      "outputs": [
        {
          "output_type": "stream",
          "name": "stdout",
          "text": [
            "I like orange\n"
          ]
        }
      ]
    },
    {
      "cell_type": "markdown",
      "source": [
        "6. Write a code to create a list with numbers 1 to 5 and print it"
      ],
      "metadata": {
        "id": "uJbvf1ojJNyq"
      }
    },
    {
      "cell_type": "code",
      "source": [
        "my_lst = []\n",
        "for i in range(5):\n",
        "  my_lst.append(i+1)\n",
        "\n",
        "print(my_lst)"
      ],
      "metadata": {
        "colab": {
          "base_uri": "https://localhost:8080/"
        },
        "id": "0x_DnGcAJSCv",
        "outputId": "9d7b2dcd-3606-43d7-fe68-e67a8ac64841"
      },
      "execution_count": 10,
      "outputs": [
        {
          "output_type": "stream",
          "name": "stdout",
          "text": [
            "[1, 2, 3, 4, 5]\n"
          ]
        }
      ]
    },
    {
      "cell_type": "markdown",
      "source": [
        "7. Write a code to append the number 10 to the list [1, 2, 3, 4]"
      ],
      "metadata": {
        "id": "mNdI0IElJ_GF"
      }
    },
    {
      "cell_type": "code",
      "source": [
        "list_a = [1,2,3,4]\n",
        "list_a.append(10)\n",
        "print(list_a)"
      ],
      "metadata": {
        "colab": {
          "base_uri": "https://localhost:8080/"
        },
        "id": "jA8fVItmKDwG",
        "outputId": "f810c512-9d28-4519-f08d-99c48b29f9a3"
      },
      "execution_count": 12,
      "outputs": [
        {
          "output_type": "stream",
          "name": "stdout",
          "text": [
            "[1, 2, 3, 4, 10]\n"
          ]
        }
      ]
    },
    {
      "cell_type": "markdown",
      "source": [
        "8. Write a code to remove the number 3 from the list [1, 2, 3, 4, 5]"
      ],
      "metadata": {
        "id": "J6So6koeJES2"
      }
    },
    {
      "cell_type": "code",
      "source": [
        "listb = [1,2,3,4,5]\n",
        "listb.remove(3)\n",
        "print(listb)"
      ],
      "metadata": {
        "colab": {
          "base_uri": "https://localhost:8080/"
        },
        "id": "JH0utr9cKl4v",
        "outputId": "2f42f86f-66c9-4b83-9e89-689ac0f307d3"
      },
      "execution_count": 13,
      "outputs": [
        {
          "output_type": "stream",
          "name": "stdout",
          "text": [
            "[1, 2, 4, 5]\n"
          ]
        }
      ]
    },
    {
      "cell_type": "markdown",
      "source": [
        "9. Write a code to access the second element in the list ['a', 'b', 'c', 'd']"
      ],
      "metadata": {
        "id": "3Oewo8QoKv8T"
      }
    },
    {
      "cell_type": "code",
      "source": [
        "listc = ['a','b','c','d']\n",
        "listc_char = listc[1]\n",
        "print(listc_char)"
      ],
      "metadata": {
        "colab": {
          "base_uri": "https://localhost:8080/"
        },
        "id": "37p5bU-CK0gy",
        "outputId": "0a94cc06-cca1-4428-f5f4-32ffae7a7706"
      },
      "execution_count": 14,
      "outputs": [
        {
          "output_type": "stream",
          "name": "stdout",
          "text": [
            "b\n"
          ]
        }
      ]
    },
    {
      "cell_type": "markdown",
      "source": [
        "10. Write a code to reverse the list [10, 20, 30, 40, 50]"
      ],
      "metadata": {
        "id": "wyTurvihLKun"
      }
    },
    {
      "cell_type": "code",
      "source": [
        "listd = [10, 20, 30, 40, 50]\n",
        "listd_r = listd[::-1]\n",
        "print(listd_r)"
      ],
      "metadata": {
        "colab": {
          "base_uri": "https://localhost:8080/"
        },
        "id": "wqLcxxG2LNyN",
        "outputId": "15fbecb4-4195-4536-832d-0454cfde0789"
      },
      "execution_count": 15,
      "outputs": [
        {
          "output_type": "stream",
          "name": "stdout",
          "text": [
            "[50, 40, 30, 20, 10]\n"
          ]
        }
      ]
    },
    {
      "cell_type": "markdown",
      "source": [
        "11.Write a code to create a tuple with the elements 100, 200, 300 and print it."
      ],
      "metadata": {
        "id": "uFO0MZzaLf16"
      }
    },
    {
      "cell_type": "code",
      "source": [
        "tupa = (100,200,300)\n",
        "print(tupa);"
      ],
      "metadata": {
        "colab": {
          "base_uri": "https://localhost:8080/"
        },
        "id": "6z8BDQBXLkhN",
        "outputId": "162e35ec-152d-499d-dcb1-2f6ce308e2c5"
      },
      "execution_count": 16,
      "outputs": [
        {
          "output_type": "stream",
          "name": "stdout",
          "text": [
            "(100, 200, 300)\n"
          ]
        }
      ]
    },
    {
      "cell_type": "markdown",
      "source": [
        "12.  Write a code to access the second-to-last element of the tuple ('red', 'green', 'blue', 'yellow')"
      ],
      "metadata": {
        "id": "cqqK3j0iKhiB"
      }
    },
    {
      "cell_type": "code",
      "source": [
        "tupb = (\"red\", 'green', 'blue', 'yellow')\n",
        "slst = tupb[-2]\n",
        "print(slst)"
      ],
      "metadata": {
        "colab": {
          "base_uri": "https://localhost:8080/"
        },
        "id": "4qslcZU9L2Eu",
        "outputId": "a507ae9f-f8b3-48fc-fd5a-c5a891c87991"
      },
      "execution_count": 17,
      "outputs": [
        {
          "output_type": "stream",
          "name": "stdout",
          "text": [
            "blue\n"
          ]
        }
      ]
    },
    {
      "cell_type": "markdown",
      "source": [
        "13.  Write a code to find the minimum number in the tuple (10, 20, 5, 15)"
      ],
      "metadata": {
        "id": "ziPxdfnNMLRO"
      }
    },
    {
      "cell_type": "code",
      "source": [
        "tupc = (10,20,5,12)\n",
        "minv = min(tupc)\n",
        "print(minv)"
      ],
      "metadata": {
        "colab": {
          "base_uri": "https://localhost:8080/"
        },
        "id": "tjIe8Jl-MOgM",
        "outputId": "9b3b0808-617a-48fc-ba38-64e624a44979"
      },
      "execution_count": 18,
      "outputs": [
        {
          "output_type": "stream",
          "name": "stdout",
          "text": [
            "5\n"
          ]
        }
      ]
    },
    {
      "cell_type": "markdown",
      "source": [
        "14.  Write a code to find the index of the element \"cat\" in the tuple ('dog', 'cat', 'rabbit')"
      ],
      "metadata": {
        "id": "D3FPvxn5My9k"
      }
    },
    {
      "cell_type": "code",
      "source": [
        "tupd = ('dog', 'cat', 'rabbit')\n",
        "cat_index = tupd.index(\"cat\")\n",
        "print(cat_index)"
      ],
      "metadata": {
        "colab": {
          "base_uri": "https://localhost:8080/"
        },
        "id": "JBAT_HKQM2TR",
        "outputId": "aa02a866-59d5-45b4-c932-24ab25039beb"
      },
      "execution_count": 21,
      "outputs": [
        {
          "output_type": "stream",
          "name": "stdout",
          "text": [
            "1\n"
          ]
        }
      ]
    },
    {
      "cell_type": "markdown",
      "source": [
        "15. Write a code to create a tuple containing three different fruits and check if \"kiwi\" is in it."
      ],
      "metadata": {
        "id": "_S0r2efYN44X"
      }
    },
    {
      "cell_type": "code",
      "source": [
        "tupe = (\"kiwi\",\"mango\",\"banana\")\n",
        "\n",
        "if \"kiwi\" in tupe:\n",
        "  print(\"Kiwi is here\")\n",
        "else:\n",
        "  print(\"Kiwi is not here\")"
      ],
      "metadata": {
        "colab": {
          "base_uri": "https://localhost:8080/"
        },
        "id": "wZdyny1lOLdO",
        "outputId": "91b7ac3d-fc90-4ece-bab3-2e35e78339da"
      },
      "execution_count": 23,
      "outputs": [
        {
          "output_type": "stream",
          "name": "stdout",
          "text": [
            "Kiwi is here\n"
          ]
        }
      ]
    },
    {
      "cell_type": "markdown",
      "source": [
        "16. Write a code to create a set with the elements 'a', 'b', 'c' and print it."
      ],
      "metadata": {
        "id": "8hzvrCHUOfPH"
      }
    },
    {
      "cell_type": "code",
      "source": [
        "seta = {\"a\", \"b\", \"c\"}\n",
        "print(seta)"
      ],
      "metadata": {
        "colab": {
          "base_uri": "https://localhost:8080/"
        },
        "id": "kAQZGqKIOh1A",
        "outputId": "8adfe8a0-4021-4ee1-ced7-e2ed4fc67c60"
      },
      "execution_count": 24,
      "outputs": [
        {
          "output_type": "stream",
          "name": "stdout",
          "text": [
            "{'c', 'a', 'b'}\n"
          ]
        }
      ]
    },
    {
      "cell_type": "markdown",
      "source": [
        "17. Write a code to clear all elements from the set {1, 2, 3, 4, 5}"
      ],
      "metadata": {
        "id": "5qz7ct1mOrCO"
      }
    },
    {
      "cell_type": "code",
      "source": [
        "setb = {1, 2, 3, 4, 5}\n",
        "setb.clear()\n",
        "print(setb)"
      ],
      "metadata": {
        "colab": {
          "base_uri": "https://localhost:8080/"
        },
        "id": "6-dviOceOwl8",
        "outputId": "d609d38a-c8a3-45bb-d9e3-f8c572d5b351"
      },
      "execution_count": 26,
      "outputs": [
        {
          "output_type": "stream",
          "name": "stdout",
          "text": [
            "set()\n"
          ]
        }
      ]
    },
    {
      "cell_type": "markdown",
      "source": [
        "18.  Write a code to remove the element 4 from the set {1, 2, 3, 4}"
      ],
      "metadata": {
        "id": "I748K7GHPIMR"
      }
    },
    {
      "cell_type": "code",
      "source": [
        "setc =  {1, 2, 3, 4}\n",
        "setc.remove(4)\n",
        "print(setc)"
      ],
      "metadata": {
        "colab": {
          "base_uri": "https://localhost:8080/"
        },
        "id": "93rzB3UxPLfl",
        "outputId": "580af894-79d4-4a9d-b921-a2c02f5c6c78"
      },
      "execution_count": 27,
      "outputs": [
        {
          "output_type": "stream",
          "name": "stdout",
          "text": [
            "{1, 2, 3}\n"
          ]
        }
      ]
    },
    {
      "cell_type": "markdown",
      "source": [
        "19. Write a code to find the union of two sets {1, 2, 3} and {3, 4, 5}"
      ],
      "metadata": {
        "id": "eCBSmEDpPpu5"
      }
    },
    {
      "cell_type": "code",
      "source": [
        "setd =  {1, 2, 3}\n",
        "sete =  {3, 4, 5}\n",
        "\n",
        "uni_set = setd.union(sete)\n",
        "print(uni_set)"
      ],
      "metadata": {
        "colab": {
          "base_uri": "https://localhost:8080/"
        },
        "id": "BR6qkRIQPuKH",
        "outputId": "7a7cfd67-fa48-448a-bc48-1d459954c289"
      },
      "execution_count": 28,
      "outputs": [
        {
          "output_type": "stream",
          "name": "stdout",
          "text": [
            "{1, 2, 3, 4, 5}\n"
          ]
        }
      ]
    },
    {
      "cell_type": "markdown",
      "source": [
        "20. Write a code to find the intersection of two sets {1, 2, 3} and {2, 3, 4}"
      ],
      "metadata": {
        "id": "YSmTAI1nQCje"
      }
    },
    {
      "cell_type": "code",
      "source": [
        "setf = {1,2,3}\n",
        "setg = {2,3,4}\n",
        "\n",
        "int_set = setf.intersection(setg)\n",
        "print(int_set)"
      ],
      "metadata": {
        "colab": {
          "base_uri": "https://localhost:8080/"
        },
        "id": "Kg5yMA_AQFsE",
        "outputId": "990830f4-3842-4286-cac5-3aba23aa6a2b"
      },
      "execution_count": 29,
      "outputs": [
        {
          "output_type": "stream",
          "name": "stdout",
          "text": [
            "{2, 3}\n"
          ]
        }
      ]
    },
    {
      "cell_type": "markdown",
      "source": [
        "21.  Write a code to create a dictionary with the keys \"name\", \"age\", and \"city\", and print it"
      ],
      "metadata": {
        "id": "P9qMX--jQcmb"
      }
    },
    {
      "cell_type": "code",
      "source": [
        "dicta= {\"name\":\"Argha\", \"age\":24, \"city\":\"Malda\"}\n",
        "print(dicta)"
      ],
      "metadata": {
        "colab": {
          "base_uri": "https://localhost:8080/"
        },
        "id": "5ZF2MeQ8QfyU",
        "outputId": "6019f856-903e-43c8-94c2-9c740313cc21"
      },
      "execution_count": 30,
      "outputs": [
        {
          "output_type": "stream",
          "name": "stdout",
          "text": [
            "{'name': 'Argha', 'age': 24, 'city': 'Malda'}\n"
          ]
        }
      ]
    },
    {
      "cell_type": "markdown",
      "source": [
        "22.  Write a code to add a new key-value pair \"country\": \"USA\" to the dictionary {'name': 'John', 'age': 25}"
      ],
      "metadata": {
        "id": "025c9OWEQvwF"
      }
    },
    {
      "cell_type": "code",
      "source": [
        "dictb = {'name': 'John', 'age': 25}\n",
        "dictb[\"country\"] = \"USA\"\n",
        "print(dictb)"
      ],
      "metadata": {
        "colab": {
          "base_uri": "https://localhost:8080/"
        },
        "id": "zaOIBTyyQzBW",
        "outputId": "e655503f-e378-48a2-bcb1-7111da1c3730"
      },
      "execution_count": 31,
      "outputs": [
        {
          "output_type": "stream",
          "name": "stdout",
          "text": [
            "{'name': 'John', 'age': 25, 'country': 'USA'}\n"
          ]
        }
      ]
    },
    {
      "cell_type": "markdown",
      "source": [
        "23.  Write a code to access the value associated with the key \"name\" in the dictionary {'name': 'Alice', 'age': 30}"
      ],
      "metadata": {
        "id": "ecAq6pqaRKFb"
      }
    },
    {
      "cell_type": "code",
      "source": [
        "dictc =  {'name': 'Alice', 'age': 30}\n",
        "val = dictc[\"name\"]\n",
        "print(val)"
      ],
      "metadata": {
        "colab": {
          "base_uri": "https://localhost:8080/"
        },
        "id": "N7UXAaq1RNdp",
        "outputId": "0cca15d4-407c-4d9f-b8b4-ee6025d3ad46"
      },
      "execution_count": 33,
      "outputs": [
        {
          "output_type": "stream",
          "name": "stdout",
          "text": [
            "Alice\n"
          ]
        }
      ]
    },
    {
      "cell_type": "markdown",
      "source": [
        "24. Write a code to remove the key \"age\" from the dictionary {'name': 'Bob', 'age': 22, 'city': 'New York'}."
      ],
      "metadata": {
        "id": "llS8IaBuReem"
      }
    },
    {
      "cell_type": "code",
      "source": [
        "dictd = {'name': 'Bob', 'age': 22, 'city': 'New York'}\n",
        "dictd.pop(\"age\")\n",
        "print(dictd)"
      ],
      "metadata": {
        "colab": {
          "base_uri": "https://localhost:8080/"
        },
        "id": "H8PqrLL2RhY0",
        "outputId": "aa40b4e0-b8ad-40b4-da7a-681082dbd3d1"
      },
      "execution_count": 35,
      "outputs": [
        {
          "output_type": "stream",
          "name": "stdout",
          "text": [
            "{'name': 'Bob', 'city': 'New York'}\n"
          ]
        }
      ]
    },
    {
      "cell_type": "markdown",
      "source": [
        "25. Write a code to check if the key \"city\" exists in the dictionary {'name': 'Alice', 'city': 'Paris'}"
      ],
      "metadata": {
        "id": "aFNiyJAySyjS"
      }
    },
    {
      "cell_type": "code",
      "source": [
        "dicte = {'name': 'Alice', 'city': 'Paris'}\n",
        "\n",
        "if \"city\" in dicte:\n",
        "  print(\"Exists\")\n",
        "else:\n",
        "  print(\"Doesn't Exist\")"
      ],
      "metadata": {
        "colab": {
          "base_uri": "https://localhost:8080/"
        },
        "id": "ItrEbo9kS2Ku",
        "outputId": "8a7cd0a6-fff7-4ad9-e06c-bd6cea94d33a"
      },
      "execution_count": 36,
      "outputs": [
        {
          "output_type": "stream",
          "name": "stdout",
          "text": [
            "Exists\n"
          ]
        }
      ]
    },
    {
      "cell_type": "markdown",
      "source": [
        "26. Write a code to create a list, a tuple, and a dictionary, and print them all."
      ],
      "metadata": {
        "id": "cgbhH33hUYG0"
      }
    },
    {
      "cell_type": "code",
      "source": [
        "listx = [1, \"a\", \"Hi\"]\n",
        "tupx = (1,2,3)\n",
        "dictx = {\"char\":\"A\", \"int\":2}\n",
        "\n",
        "print(listx)\n",
        "print(tupx)\n",
        "print(dictx)"
      ],
      "metadata": {
        "colab": {
          "base_uri": "https://localhost:8080/"
        },
        "id": "E1bOVKwqVX8C",
        "outputId": "85b10aef-ce9e-49dd-fc8c-df59eae3e007"
      },
      "execution_count": 37,
      "outputs": [
        {
          "output_type": "stream",
          "name": "stdout",
          "text": [
            "[1, 'a', 'Hi']\n",
            "(1, 2, 3)\n",
            "{'char': 'A', 'int': 2}\n"
          ]
        }
      ]
    },
    {
      "cell_type": "markdown",
      "source": [
        "27. Write a code to create a list of 5 random numbers between 1 and 100, sort it in ascending order, and print the\n",
        "result.(replaced)"
      ],
      "metadata": {
        "id": "H1cgmgugV2t0"
      }
    },
    {
      "cell_type": "code",
      "source": [
        "import random\n",
        "num1 = [random.sample(range(1,101), 5)]\n",
        "print(num1)"
      ],
      "metadata": {
        "colab": {
          "base_uri": "https://localhost:8080/"
        },
        "id": "U5lOZdIuWAoa",
        "outputId": "4cc44da4-4ca2-44b2-ba95-07047676b10a"
      },
      "execution_count": 39,
      "outputs": [
        {
          "output_type": "stream",
          "name": "stdout",
          "text": [
            "[[64, 56, 34, 32, 23]]\n"
          ]
        }
      ]
    },
    {
      "cell_type": "markdown",
      "source": [
        "28. Write a code to create a list with strings and print the element at the third index"
      ],
      "metadata": {
        "id": "WpZIwYX-WRoo"
      }
    },
    {
      "cell_type": "code",
      "source": [
        "listz = [\"I\", \"AM\", \"A\", \"STRING\" ]\n",
        "print(listz[2])"
      ],
      "metadata": {
        "colab": {
          "base_uri": "https://localhost:8080/"
        },
        "id": "fSDqkOJCWWLD",
        "outputId": "b7ef5daf-46a8-407d-c6e7-ded3b687e057"
      },
      "execution_count": 40,
      "outputs": [
        {
          "output_type": "stream",
          "name": "stdout",
          "text": [
            "A\n"
          ]
        }
      ]
    },
    {
      "cell_type": "markdown",
      "source": [
        "29. Write a code to combine two dictionaries into one and print the result"
      ],
      "metadata": {
        "id": "BkFXvtbLWpeU"
      }
    },
    {
      "cell_type": "code",
      "source": [
        "dictz = {\"hey\":\"hello\", \"hi\":\"whatsup\"}\n",
        "dicti = {\"hola\":\"amigo\", \"kaise ho?\":\"thik ho?\"}\n",
        "\n",
        "comb_dict = dictz | dicti\n",
        "\n",
        "print(comb_dict)"
      ],
      "metadata": {
        "colab": {
          "base_uri": "https://localhost:8080/"
        },
        "id": "XHvmsdXIWwWy",
        "outputId": "19414074-f355-4795-da7f-2d342a840cf1"
      },
      "execution_count": 41,
      "outputs": [
        {
          "output_type": "stream",
          "name": "stdout",
          "text": [
            "{'hey': 'hello', 'hi': 'whatsup', 'hola': 'amigo', 'kaise ho?': 'thik ho?'}\n"
          ]
        }
      ]
    },
    {
      "cell_type": "markdown",
      "source": [
        "30. Write a code to convert a list of strings into a set."
      ],
      "metadata": {
        "id": "nBzk66y9Wxtt"
      }
    },
    {
      "cell_type": "code",
      "source": [
        "alphabets = [\"a\", \"b\", \"c\"]\n",
        "set_alphabets = set(alphabets)\n",
        "print(type(set_alphabets))\n",
        "print(set_alphabets)"
      ],
      "metadata": {
        "colab": {
          "base_uri": "https://localhost:8080/"
        },
        "id": "XtWw2x1fW0Gg",
        "outputId": "df0542e6-cb60-4201-c0b0-01ebf8adbf7c"
      },
      "execution_count": 42,
      "outputs": [
        {
          "output_type": "stream",
          "name": "stdout",
          "text": [
            "<class 'set'>\n",
            "{'c', 'a', 'b'}\n"
          ]
        }
      ]
    },
    {
      "cell_type": "markdown",
      "source": [
        "by\n",
        "#Arghadeep Misra\n",
        "##argadeepmisra@gmail.com\n",
        "##+91 8250675419"
      ],
      "metadata": {
        "id": "UDeG7kaeYD_l"
      }
    }
  ]
}