{
  "nbformat": 4,
  "nbformat_minor": 0,
  "metadata": {
    "colab": {
      "provenance": []
    },
    "kernelspec": {
      "name": "python3",
      "display_name": "Python 3"
    },
    "language_info": {
      "name": "python"
    }
  },
  "cells": [
    {
      "cell_type": "markdown",
      "source": [
        "# Python Basics Questions\n",
        "\n",
        "\n"
      ],
      "metadata": {
        "id": "B9mLNqlotMJG"
      }
    },
    {
      "cell_type": "markdown",
      "source": [
        "# **Theory Question - Answers**"
      ],
      "metadata": {
        "id": "YGYHUyqWcZjL"
      }
    },
    {
      "cell_type": "markdown",
      "source": [
        "**1. What is Python, and why is it popular**\n",
        "- Python is an interpreted programming language that is widely used to program applications from web-servers to data science workflows.\n",
        "- There are many reasons why Python is popular.\n",
        "\n",
        "Firstly, Python is a very easy language to grasp and work with. Due to a lot of underlaying abstraction & ideologies, it becomes very easy to work with python in critical applications like GPU Programming.\n",
        "\n",
        "\n",
        "Secondly, Although Python is very easy to write & program with, it comes with few issues like speed & reliability( More abstraction means less control ). Developer community, throughout the years created conversion layers which can translate Python code (Pytorch) to C code and offer better performance. Which further helped to overcome the pitfalls of an interpreted language.\n",
        "\n",
        "Third, The community of Python is very vast & works on cutting edge technology. Thus the support of various libraries and frameworks have grown to a quite big number. Making support for each fields  \n",
        "\n",
        "\n",
        "\n"
      ],
      "metadata": {
        "id": "6w8PilO6tOPp"
      }
    },
    {
      "cell_type": "markdown",
      "source": [
        "**2. What is an interpreter in Python**\n",
        "- Python Interpreter is the underlaying program that reads the Python code (.py file ) line by line and interprets that to the machine code. It is different than compiled codes, as it executes only line after line.\n",
        "- There are few Python Interpreters that are getting used in modern world\n",
        "\n",
        "a. CPython - It is the interpreter that is written using C\n",
        "\n",
        "b. PyPy - Just in Time compilation ( Block of Code excecutes based on frequency of the usage )\n",
        "\n",
        "c. Jython - Python code usability of Java Supported Systems\n",
        "\n",
        "d. MicroPython - Used for micro controllers"
      ],
      "metadata": {
        "id": "SKSjIbPkv8ml"
      }
    },
    {
      "cell_type": "markdown",
      "source": [
        "**3. What are pre-defined keywords in Python**\n",
        "- Pre-defined words are those which are already baked in the Python Language. Although these all the distilled functions under the hood, which we should not use to store any kind of information (as a variable).\n",
        "\n",
        "Example - print, class, import etc."
      ],
      "metadata": {
        "id": "DDqbw-RwyFcq"
      }
    },
    {
      "cell_type": "markdown",
      "source": [
        "**4. Can keywords be used as variable names**\n",
        "- No we can't use them as they will throw \"Syntax Error\"\n"
      ],
      "metadata": {
        "id": "ksscHMOJz0OU"
      }
    },
    {
      "cell_type": "markdown",
      "source": [
        "**5. What is mutability in Python**\n",
        "- Mutability in Python means the change of the data without changing the Object Id.\n",
        "\n",
        "There are two kinds of Objects in Python\n",
        "\n",
        "1. Mutable Objects - (Like Dictionary & List) Which will change the data inside them without changing the Object ID\n",
        "\n",
        "2. Immutable Objects - (Like Integer & Tuples ) Where if you try to change the data inside them , they will aquire a new Object ID and"
      ],
      "metadata": {
        "id": "Pt-Mazu60o43"
      }
    },
    {
      "cell_type": "code",
      "source": [
        "# Mutable Objects\n",
        "a = \"Py\"\n",
        "print(a)\n",
        "print (id(a))\n",
        "a += \"thon\"\n",
        "print (a)\n",
        "print (id(a)) # different object ID"
      ],
      "metadata": {
        "colab": {
          "base_uri": "https://localhost:8080/"
        },
        "id": "wH9BvwOp2d-3",
        "outputId": "049d7e96-9453-475a-a0be-58ed7b63bbfc"
      },
      "execution_count": null,
      "outputs": [
        {
          "output_type": "stream",
          "name": "stdout",
          "text": [
            "Py\n",
            "137363706919856\n",
            "Python\n",
            "137363174018992\n"
          ]
        }
      ]
    },
    {
      "cell_type": "markdown",
      "source": [
        "**6. Why are lists mutable, but tuples are immutable**\n",
        "- Lists and Tuples are created for different reasons alltogather.\n",
        "\n",
        "Lists are for storing data, sorting, appending. They are highly flexible for read and write operations that is crucial for growing new data.\n",
        "\n",
        "Tuples on the other hand is designed completely differnt from the Lists. It is meant to be static. Suppose if someone is using tuples as a key for hashing funtion, changing/mutation of the data will cost a big time so it is nessecery not to let them change."
      ],
      "metadata": {
        "id": "EEwF7ZIM2v-3"
      }
    },
    {
      "cell_type": "markdown",
      "source": [
        "**7. What is the difference between “==” and “is” operators in Python**\n",
        "- \" == \" - Is a equality operator that checks if two objects are same or not. Suppose there is a & b object that has the same contents. By checking their equality , it will show us \"True\", means both the contents are the same.  \n",
        "\n",
        "on the other hand,\n",
        "\n",
        "\" is \" - Is a Identity Operator. Which means even though a & b are two different objects that has the same content , \" is \" will show false, since the memory address / object ID are different.\n",
        "\n",
        "Ultimately, is - checks if the objects are same and == checks if the contents are the same.\n",
        "\n",
        "( This might be very confusing for certain tasks because python might use same memory for different objects if it feels so )\n"
      ],
      "metadata": {
        "id": "TI_JIGm14boD"
      }
    },
    {
      "cell_type": "markdown",
      "source": [
        "**8. What are logical operators in Python ?**\n",
        "- Logical operators in python checks logic, like logic gates. If you let the operators judge a logic [ Example - If a is greater than b or a is greater than c , you have to write - a > b or a > c]\n",
        "\n",
        "This will return either false or true.\n",
        "\n",
        "The logical operators are\n",
        "\n",
        "1.and ( Which checks both )\n",
        "\n",
        "2.or ( Which checks either )\n",
        "\n",
        "3.not ( Which checks the negetive )"
      ],
      "metadata": {
        "id": "aKqV9KtW6F1d"
      }
    },
    {
      "cell_type": "markdown",
      "source": [
        "**9.  What is type casting in Python**\n",
        "- Typecasting is mainly converting one data type to another.\n",
        "\n",
        "**10. What is the difference between implicit and explicit type casting**\n",
        "\n",
        "- There are two ways python does the Type Casting\n",
        "\n",
        "Implicit - Where we don't have to hardcode the typecasting , python internally decides the type of the variable ( Example - Multiplying Float to Inter and storing in a variable )\n",
        "\n",
        "Explicit - Where we had to mention the type that we are wanting to cast to. ( typecasting the input as a integer from string )"
      ],
      "metadata": {
        "id": "lgok0QbX8HIx"
      }
    },
    {
      "cell_type": "markdown",
      "source": [
        "**11. What is the purpose of conditional statements in Python**\n",
        "\n",
        "- The purpose of the Conditional Statements are to controll the program in such a way that it never gets out of bound.\n",
        "\n",
        "Unless the condition is met, some sections of the code should never run, if that happens - it could end up in a lot of mess creating problems. So to maintain the systematic approach we have to use conditional statements, to access and restrict certain block of code that can also be used in re-usability.\n",
        "\n",
        "If - Allows only if the condition is met\n",
        "\n",
        "else - allows to excecute if the condition goes otherwise\n",
        "\n",
        "else if - allows the code to check priliminary condition with added condition before declaring it exception, that will be catched by \"else\".\n"
      ],
      "metadata": {
        "id": "dM_95LQj__Nm"
      }
    },
    {
      "cell_type": "markdown",
      "source": [
        "**12. How does the elif statement work**\n",
        "\n",
        "- If the priliminary condition doesn't met by \"if\" - statement\n",
        "\n",
        "We provide the \"elif\" - statement which means \"Else If\" - Which is the previous check for the else keyword to execute the exception of any condition.\n",
        "\n",
        "We can see it as an addition to if-statements which increases the conditions of the program."
      ],
      "metadata": {
        "id": "myqaz-q6BV6f"
      }
    },
    {
      "cell_type": "markdown",
      "source": [
        "**13. What is the difference between for and while loops**\n",
        "- For and While both are used to re-execute same block of code but the termination and origin of the loop is different in both of them\n",
        "\n",
        "**While Loop** - Checks if the termination condition is true or false at the start of the code-block. In simplier words - While a condition is true the block of code will re-execute.\n",
        "\n",
        "**For Loop** - Is typically used when I know For How Long I can re-execute the code. Which means the repetition is already baked in the code before execution of the code."
      ],
      "metadata": {
        "id": "K-2edvfiDVLB"
      }
    },
    {
      "cell_type": "markdown",
      "source": [
        "**14. Describe a scenario where a while loop is more suitable than a for loop.**\n",
        "\n",
        "- Suppose I need a negetive integer and the user ignores the flag and keeps inputting the positive integer. In this case if I use while loop, it will keep re-executing / asking for a negetive integer unless the user is providing that. When ever the user inputs a negetive integer the loop will break and execute the rest of the code.\n",
        "\n",
        "It is specially helpful because I don't know / the program doesn't know how much time the user will enter wrong number thus we implemented a check that will perform checking everythime the user provides a value.\n"
      ],
      "metadata": {
        "id": "W2kqeqLiJfLl"
      }
    },
    {
      "cell_type": "markdown",
      "source": [
        "# **Practical Question - Answers**"
      ],
      "metadata": {
        "id": "IMQMd7W2cPfe"
      }
    },
    {
      "cell_type": "code",
      "source": [
        "# 1. Write a Python program to print \"Hello, World!\"\n",
        "\n",
        "print(\"Hello, World\")\n"
      ],
      "metadata": {
        "colab": {
          "base_uri": "https://localhost:8080/"
        },
        "id": "KXrUj9kbKlE8",
        "outputId": "575f7d6b-c943-4e39-e8f1-95e93cb95a1a"
      },
      "execution_count": null,
      "outputs": [
        {
          "output_type": "stream",
          "name": "stdout",
          "text": [
            "Hello, World\n"
          ]
        }
      ]
    },
    {
      "cell_type": "code",
      "source": [
        "# 2. Write a Python program that displays your name and age\n",
        "\n",
        "name = \"Arghadeep Misra\"\n",
        "age = 24\n",
        "\n",
        "print(f\"My name is {name} & my age is {age}\")"
      ],
      "metadata": {
        "colab": {
          "base_uri": "https://localhost:8080/"
        },
        "id": "LNU89zZaKuD6",
        "outputId": "0dd9517f-17ff-45d7-e23e-e6386dc64b70"
      },
      "execution_count": null,
      "outputs": [
        {
          "output_type": "stream",
          "name": "stdout",
          "text": [
            "My name is Arghadeep Misra & my age is 24\n"
          ]
        }
      ]
    },
    {
      "cell_type": "code",
      "source": [
        "# 3. Write code to print all the pre-defined keywords in Python using the keyword library\n",
        "\n",
        "import keyword\n",
        "keywords = keyword.kwlist\n",
        "#print(type(keywords))\n",
        "i = 1\n",
        "for words in keywords:\n",
        "  print(i, \".\", words)\n",
        "  i+=1"
      ],
      "metadata": {
        "colab": {
          "base_uri": "https://localhost:8080/"
        },
        "id": "XAkypYIHLCow",
        "outputId": "224045a9-7fef-47e7-f1ce-696a42ffb4e8"
      },
      "execution_count": null,
      "outputs": [
        {
          "output_type": "stream",
          "name": "stdout",
          "text": [
            "1 . False\n",
            "2 . None\n",
            "3 . True\n",
            "4 . and\n",
            "5 . as\n",
            "6 . assert\n",
            "7 . async\n",
            "8 . await\n",
            "9 . break\n",
            "10 . class\n",
            "11 . continue\n",
            "12 . def\n",
            "13 . del\n",
            "14 . elif\n",
            "15 . else\n",
            "16 . except\n",
            "17 . finally\n",
            "18 . for\n",
            "19 . from\n",
            "20 . global\n",
            "21 . if\n",
            "22 . import\n",
            "23 . in\n",
            "24 . is\n",
            "25 . lambda\n",
            "26 . nonlocal\n",
            "27 . not\n",
            "28 . or\n",
            "29 . pass\n",
            "30 . raise\n",
            "31 . return\n",
            "32 . try\n",
            "33 . while\n",
            "34 . with\n",
            "35 . yield\n"
          ]
        }
      ]
    },
    {
      "cell_type": "code",
      "source": [
        "# 4.  Write a program that checks if a given word is a Python keyword\n",
        "\n",
        "import keyword\n",
        "\n",
        "keywords = input(\"Enter Your Word : \")\n",
        "\n",
        "if keyword.iskeyword(keywords):\n",
        "  print(f\"{keywords} is an inbuilt keyword\")\n",
        "else:\n",
        "  print(f\"{keywords} is not an inbuilt keyword\")"
      ],
      "metadata": {
        "id": "WB7zXKCnMv5C",
        "colab": {
          "base_uri": "https://localhost:8080/"
        },
        "outputId": "d92d446b-d033-47da-a121-39ec48bad2f5"
      },
      "execution_count": 5,
      "outputs": [
        {
          "output_type": "stream",
          "name": "stdout",
          "text": [
            "Enter Your Word : int\n",
            "int is not an inbuilt keyword\n"
          ]
        }
      ]
    },
    {
      "cell_type": "code",
      "source": [
        "#import keyword - is almost done\n",
        "\n",
        "# 5. Create a list and tuple in Python, and demonstrate how attempting to change an element works differently\n",
        "# for each\n",
        "\n",
        "# Initialization 1) a - List 2) b - Tuple\n",
        "a = [1,2,3,4]\n",
        "b = (1,2,3,4)\n",
        "\n",
        "#Id of both the List & Tuple\n",
        "print(f\"Object ID of the List {id(a)}\")\n",
        "print()\n",
        "print(f\"Object ID of the Tuple {id(b)}\")\n",
        "print()\n",
        "\n",
        "#success in List\n",
        "a[1] = 0\n",
        "print(f\"List after changing {a}\")\n",
        "print(f\"Object ID of the List after Changing {id(a)} [SAME] \")\n",
        "\n",
        "print()\n",
        "\n",
        "#failure in Tuples\n",
        "try:\n",
        "    b[1] = 0\n",
        "except TypeError as e:\n",
        "    print(\"Error - \", e)\n",
        "\n",
        "\n"
      ],
      "metadata": {
        "colab": {
          "base_uri": "https://localhost:8080/"
        },
        "id": "novhkH2eM2MM",
        "outputId": "87343344-385c-4ce0-c732-fc78a1fc9351"
      },
      "execution_count": 16,
      "outputs": [
        {
          "output_type": "stream",
          "name": "stdout",
          "text": [
            "Object ID of the List 132712079507072\n",
            "\n",
            "Object ID of the Tuple 132712079573376\n",
            "\n",
            "List after changing [1, 0, 3, 4]\n",
            "Object ID of the List after Changing 132712079507072 [SAME] \n",
            "\n",
            "Error -  'tuple' object does not support item assignment\n"
          ]
        }
      ]
    },
    {
      "cell_type": "code",
      "source": [
        "# 6.  Write a function to demonstrate the behavior of mutable and immutable arguments\n",
        "\n",
        "def func(old_int, old_list=[]):\n",
        "  old_int += 5\n",
        "  old_list.append(777)\n",
        "  print(f\"Inside Function - 1) Integer = {old_int} 2) List = {old_list} \")\n",
        "  print(f\"Object IDs - Integer) {id(old_int)} , List) {id(old_list)}\")\n",
        "\n",
        "\n",
        "\n",
        "\n",
        "new_int = 5 # Not Mutable\n",
        "new_list = [555, 666] # Mutable\n",
        "\n",
        "\n",
        "print(f\"Object IDs - Integer) {id(new_int)} , List) {id(new_list)}\")\n",
        "\n",
        "func(new_int, new_list)\n",
        "\n",
        "print(f\"Outside Function - 1) Integer = {new_int} 2) List = {new_list}\")\n",
        "\n",
        "\n"
      ],
      "metadata": {
        "colab": {
          "base_uri": "https://localhost:8080/"
        },
        "id": "IeZVNQsITOHx",
        "outputId": "cf57570b-335b-4c5c-8c67-bcd30936a3eb"
      },
      "execution_count": 40,
      "outputs": [
        {
          "output_type": "stream",
          "name": "stdout",
          "text": [
            "Object IDs - Integer) 10750984 , List) 132712067278080\n",
            "Inside Function - 1) Integer = 10 2) List = [555, 666, 777] \n",
            "Object IDs - Integer) 10751144 , List) 132712067278080\n",
            "Outside Function - 1) Integer = 5 2) List = [555, 666, 777]\n"
          ]
        }
      ]
    },
    {
      "cell_type": "code",
      "source": [],
      "metadata": {
        "id": "W5ffnFRBXVHR"
      },
      "execution_count": null,
      "outputs": []
    },
    {
      "cell_type": "code",
      "source": [
        "# 7. Write a program that performs basic arithmetic operations on two user-input numbers\n",
        "\n",
        "def arith(num_one, num_two, sign):\n",
        "  if sign == \"+\":\n",
        "    print(num_one+num_two)\n",
        "  elif sign == \"-\":\n",
        "    print(num_one-num_two)\n",
        "  elif sign == \"/\":\n",
        "    print(num_one/num_two)\n",
        "  elif sign == \"*\":\n",
        "    print(num_one*num_two)\n",
        "\n",
        "num1 = float(input(\"Enter Number \"))\n",
        "signature = input(\"Arithmatic Operation\")\n",
        "num2 = float(input(\"Enter Number \"))\n",
        "\n",
        "arith(num1, num2, signature)"
      ],
      "metadata": {
        "colab": {
          "base_uri": "https://localhost:8080/"
        },
        "id": "xihU5BwEaORN",
        "outputId": "9cb1e449-6d8a-4126-c822-fd849cd337a4"
      },
      "execution_count": 41,
      "outputs": [
        {
          "output_type": "stream",
          "name": "stdout",
          "text": [
            "Enter Number 12\n",
            "Arithmatic Operation/\n",
            "Enter Number 3.759\n",
            "3.192338387869114\n"
          ]
        }
      ]
    },
    {
      "cell_type": "code",
      "source": [
        "# 8. Write a program to demonstrate the use of logical operators\n",
        "\n",
        "stored_username = \"Argha\"\n",
        "stored_password = \"03521\"\n",
        "stored_captcha = \"XYN123\"\n",
        "\n",
        "username = input(\"Enter Username : \")\n",
        "password = input(\"Enter Password : \")\n",
        "captcha = input(\"Enter Captcha - XYN123 : \")\n",
        "\n",
        "if stored_username == username and stored_password == password and stored_captcha == captcha:\n",
        "    print(\"Logged In\")\n",
        "else:\n",
        "    print(\"Please Try Again\")\n",
        "\n"
      ],
      "metadata": {
        "colab": {
          "base_uri": "https://localhost:8080/"
        },
        "id": "8_D8oe6Ec0Ym",
        "outputId": "22acc423-f0a5-4aa7-dca4-f3dea79334cf"
      },
      "execution_count": 42,
      "outputs": [
        {
          "output_type": "stream",
          "name": "stdout",
          "text": [
            "Enter Username : Argha\n",
            "Enter Password : 03521\n",
            "Enter Captcha - XYN123 : XYN123\n",
            "Logged In\n"
          ]
        }
      ]
    },
    {
      "cell_type": "code",
      "source": [
        "# 9.  Write a Python program to convert user input from string to integer, float, and boolean types.\n",
        "\n",
        "str_input = input(\"Enter the Input as String (Default) \")\n",
        "\n",
        "print()\n",
        "\n",
        "print(\"Default Type\")\n",
        "print(type(str_input))\n",
        "\n",
        "print()\n",
        "\n",
        "print(\"Integer\")\n",
        "int_input = int(str_input)\n",
        "print(type(int_input))\n",
        "\n",
        "print()\n",
        "\n",
        "print(\"Float\")\n",
        "float_input = float(str_input)\n",
        "print(type(float_input))\n",
        "\n",
        "print()\n",
        "\n",
        "print(\"Boolean\")\n",
        "bool_input = bool(str_input)\n",
        "print(type(bool_input))\n",
        "\n",
        "print()"
      ],
      "metadata": {
        "colab": {
          "base_uri": "https://localhost:8080/"
        },
        "id": "sNpcuvJIlcYL",
        "outputId": "8d115d56-5e89-4e5d-a2bf-21faca75a82c"
      },
      "execution_count": 49,
      "outputs": [
        {
          "output_type": "stream",
          "name": "stdout",
          "text": [
            "Enter the Input as String (Default) 1\n",
            "\n",
            "Default Type\n",
            "<class 'str'>\n",
            "\n",
            "Integer\n",
            "<class 'int'>\n",
            "\n",
            "Float\n",
            "<class 'float'>\n",
            "\n",
            "Boolean\n",
            "<class 'bool'>\n",
            "\n"
          ]
        }
      ]
    },
    {
      "cell_type": "code",
      "source": [
        "# 10. Write code to demonstrate type casting with list elements.\n",
        "\n",
        "# ORIGINAL LIST\n",
        "string_list = [\"1\",\"2\",\"3\"]\n",
        "print(string_list)\n",
        "# TEST TYPE\n",
        "print(type(string_list[0]))\n",
        "\n",
        "# LIST COMPREHENSION\n",
        "integer_list = [int (n) for n in string_list ]\n",
        "\n",
        "# TYPECASTING\n",
        "print()\n",
        "print(integer_list)\n",
        "# TEST TYPE\n",
        "print(type(integer_list[0]))"
      ],
      "metadata": {
        "colab": {
          "base_uri": "https://localhost:8080/"
        },
        "id": "H27cHXlPpWeh",
        "outputId": "29b074f3-41e3-42c7-ad11-1db293aed201"
      },
      "execution_count": 54,
      "outputs": [
        {
          "output_type": "stream",
          "name": "stdout",
          "text": [
            "['1', '2', '3']\n",
            "<class 'str'>\n",
            "\n",
            "[1, 2, 3]\n",
            "<class 'int'>\n"
          ]
        }
      ]
    },
    {
      "cell_type": "code",
      "source": [
        "# 11. Write a program that checks if a number is positive, negative, or zero.\n",
        "\n",
        "int_input = float(input(\"Enter a Number : \"))\n",
        "\n",
        "if int_input == 0:\n",
        "  print(\"You Entered Zero\")\n",
        "elif int_input > 0:\n",
        "  print(\"You Entered a Positive Number\")\n",
        "else:\n",
        "  print(\"You Entered a Negetive Number\")"
      ],
      "metadata": {
        "colab": {
          "base_uri": "https://localhost:8080/"
        },
        "id": "5zyBbdpMtxwy",
        "outputId": "a4e0d2fd-c03b-490c-9803-05522aacf7b7"
      },
      "execution_count": 61,
      "outputs": [
        {
          "output_type": "stream",
          "name": "stdout",
          "text": [
            "Enter a Number : -3.65\n",
            "You Entered a Negetive Number\n"
          ]
        }
      ]
    },
    {
      "cell_type": "code",
      "source": [
        "# 12. Write a for loop to print numbers from 1 to 10\n",
        "\n",
        "for i in range(10):\n",
        "    print(i+1)\n"
      ],
      "metadata": {
        "colab": {
          "base_uri": "https://localhost:8080/"
        },
        "id": "wv6JM6DevdQz",
        "outputId": "b9d2585f-1f80-457a-87c4-6e17320ffb79"
      },
      "execution_count": 1,
      "outputs": [
        {
          "output_type": "stream",
          "name": "stdout",
          "text": [
            "1\n",
            "2\n",
            "3\n",
            "4\n",
            "5\n",
            "6\n",
            "7\n",
            "8\n",
            "9\n",
            "10\n"
          ]
        }
      ]
    },
    {
      "cell_type": "code",
      "source": [
        "# 13. Write a Python program to find the sum of all even numbers between 1 and 50\n",
        "\n",
        "sum = 0\n",
        "\n",
        "for i in range(51): # (50) -> Means till 49\n",
        "  if i % 2 == 0:\n",
        "    sum += i\n",
        "  else:\n",
        "    continue\n",
        "\n",
        "print(sum)"
      ],
      "metadata": {
        "colab": {
          "base_uri": "https://localhost:8080/"
        },
        "id": "kMq9Vz0VWUHe",
        "outputId": "a215db94-5a1b-4bb1-c1a7-ca749e9501cf"
      },
      "execution_count": 15,
      "outputs": [
        {
          "output_type": "stream",
          "name": "stdout",
          "text": [
            "650\n"
          ]
        }
      ]
    },
    {
      "cell_type": "code",
      "source": [
        "# 14. Write a program to reverse a string using a while loop\n",
        "\n",
        "verse = \"AEIOU\"\n",
        "length_verse = len(verse) - 1\n",
        "reverse = \"\"\n",
        "i = 0\n",
        "\n",
        "while i <= length_verse:\n",
        "  reverse += verse[length_verse]\n",
        "  length_verse -= 1\n",
        "\n",
        "print(reverse)\n",
        "\n",
        "\n"
      ],
      "metadata": {
        "colab": {
          "base_uri": "https://localhost:8080/"
        },
        "id": "f2deX4GgYaL1",
        "outputId": "b62308e3-d7d2-4c72-eb21-48f1e7088be4"
      },
      "execution_count": 31,
      "outputs": [
        {
          "output_type": "stream",
          "name": "stdout",
          "text": [
            "UOIEA\n"
          ]
        }
      ]
    },
    {
      "cell_type": "code",
      "source": [
        "# 15. Write a Python program to calculate the factorial of a number provided by the user using a while loop\n",
        "\n",
        "# Factorian Means N (N-1) (N-2) ... 1\n",
        "\n",
        "n = 7\n",
        "fact = 1\n",
        "\n",
        "while n > 0:\n",
        "  fact *= n\n",
        "  n -= 1\n",
        "\n",
        "print(fact)"
      ],
      "metadata": {
        "colab": {
          "base_uri": "https://localhost:8080/"
        },
        "id": "9pSEhj0dcXAF",
        "outputId": "490c2cec-5ab1-43b8-a3c0-047ee3bb9451"
      },
      "execution_count": 47,
      "outputs": [
        {
          "output_type": "stream",
          "name": "stdout",
          "text": [
            "5040\n"
          ]
        }
      ]
    },
    {
      "cell_type": "markdown",
      "source": [
        "**ARGHADEEP MISRA**\n",
        "\n",
        "Email - **arghadeepmisra@gmail.com**\n",
        "\n",
        "Phone - +91 **8250675419**"
      ],
      "metadata": {
        "id": "Ph_S0E3Mdpkv"
      }
    }
  ]
}